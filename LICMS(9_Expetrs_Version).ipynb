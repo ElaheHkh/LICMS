{
  "nbformat": 4,
  "nbformat_minor": 0,
  "metadata": {
    "accelerator": "GPU",
    "colab": {
      "name": "LICMS(9 Expetrs Version).ipynb",
      "provenance": [],
      "collapsed_sections": []
    },
    "kernelspec": {
      "display_name": "Python 3",
      "name": "python3"
    },
    "widgets": {
      "application/vnd.jupyter.widget-state+json": {
        "7da25a23262d4dfbb2ca6668f9f1aecb": {
          "model_module": "@jupyter-widgets/controls",
          "model_name": "HBoxModel",
          "state": {
            "_view_name": "HBoxView",
            "_dom_classes": [],
            "_model_name": "HBoxModel",
            "_view_module": "@jupyter-widgets/controls",
            "_model_module_version": "1.5.0",
            "_view_count": null,
            "_view_module_version": "1.5.0",
            "box_style": "",
            "layout": "IPY_MODEL_2595ac54bc604249bdfcb5d4e78f0db2",
            "_model_module": "@jupyter-widgets/controls",
            "children": [
              "IPY_MODEL_2f4b196fe08d4f3ca09051dcde530f38",
              "IPY_MODEL_6fd8d83247e944d49a8848dfe322a1fa"
            ]
          }
        },
        "2595ac54bc604249bdfcb5d4e78f0db2": {
          "model_module": "@jupyter-widgets/base",
          "model_name": "LayoutModel",
          "state": {
            "_view_name": "LayoutView",
            "grid_template_rows": null,
            "right": null,
            "justify_content": null,
            "_view_module": "@jupyter-widgets/base",
            "overflow": null,
            "_model_module_version": "1.2.0",
            "_view_count": null,
            "flex_flow": null,
            "width": null,
            "min_width": null,
            "border": null,
            "align_items": null,
            "bottom": null,
            "_model_module": "@jupyter-widgets/base",
            "top": null,
            "grid_column": null,
            "overflow_y": null,
            "overflow_x": null,
            "grid_auto_flow": null,
            "grid_area": null,
            "grid_template_columns": null,
            "flex": null,
            "_model_name": "LayoutModel",
            "justify_items": null,
            "grid_row": null,
            "max_height": null,
            "align_content": null,
            "visibility": null,
            "align_self": null,
            "height": null,
            "min_height": null,
            "padding": null,
            "grid_auto_rows": null,
            "grid_gap": null,
            "max_width": null,
            "order": null,
            "_view_module_version": "1.2.0",
            "grid_template_areas": null,
            "object_position": null,
            "object_fit": null,
            "grid_auto_columns": null,
            "margin": null,
            "display": null,
            "left": null
          }
        },
        "2f4b196fe08d4f3ca09051dcde530f38": {
          "model_module": "@jupyter-widgets/controls",
          "model_name": "FloatProgressModel",
          "state": {
            "_view_name": "ProgressView",
            "style": "IPY_MODEL_4e9a2b4f48d844c4aec42f63374f5895",
            "_dom_classes": [],
            "description": "",
            "_model_name": "FloatProgressModel",
            "bar_style": "success",
            "max": 9912422,
            "_view_module": "@jupyter-widgets/controls",
            "_model_module_version": "1.5.0",
            "value": 9912422,
            "_view_count": null,
            "_view_module_version": "1.5.0",
            "orientation": "horizontal",
            "min": 0,
            "description_tooltip": null,
            "_model_module": "@jupyter-widgets/controls",
            "layout": "IPY_MODEL_e1656d5f6e854699b21371ac03efa5d8"
          }
        },
        "6fd8d83247e944d49a8848dfe322a1fa": {
          "model_module": "@jupyter-widgets/controls",
          "model_name": "HTMLModel",
          "state": {
            "_view_name": "HTMLView",
            "style": "IPY_MODEL_ce0c10aac7f14491a60a9f9a8ded2ea3",
            "_dom_classes": [],
            "description": "",
            "_model_name": "HTMLModel",
            "placeholder": "​",
            "_view_module": "@jupyter-widgets/controls",
            "_model_module_version": "1.5.0",
            "value": " 9913344/? [05:51&lt;00:00, 28226.00it/s]",
            "_view_count": null,
            "_view_module_version": "1.5.0",
            "description_tooltip": null,
            "_model_module": "@jupyter-widgets/controls",
            "layout": "IPY_MODEL_7da0a906cc5a4346bafa5ee17c54644e"
          }
        },
        "4e9a2b4f48d844c4aec42f63374f5895": {
          "model_module": "@jupyter-widgets/controls",
          "model_name": "ProgressStyleModel",
          "state": {
            "_view_name": "StyleView",
            "_model_name": "ProgressStyleModel",
            "description_width": "initial",
            "_view_module": "@jupyter-widgets/base",
            "_model_module_version": "1.5.0",
            "_view_count": null,
            "_view_module_version": "1.2.0",
            "bar_color": null,
            "_model_module": "@jupyter-widgets/controls"
          }
        },
        "e1656d5f6e854699b21371ac03efa5d8": {
          "model_module": "@jupyter-widgets/base",
          "model_name": "LayoutModel",
          "state": {
            "_view_name": "LayoutView",
            "grid_template_rows": null,
            "right": null,
            "justify_content": null,
            "_view_module": "@jupyter-widgets/base",
            "overflow": null,
            "_model_module_version": "1.2.0",
            "_view_count": null,
            "flex_flow": null,
            "width": null,
            "min_width": null,
            "border": null,
            "align_items": null,
            "bottom": null,
            "_model_module": "@jupyter-widgets/base",
            "top": null,
            "grid_column": null,
            "overflow_y": null,
            "overflow_x": null,
            "grid_auto_flow": null,
            "grid_area": null,
            "grid_template_columns": null,
            "flex": null,
            "_model_name": "LayoutModel",
            "justify_items": null,
            "grid_row": null,
            "max_height": null,
            "align_content": null,
            "visibility": null,
            "align_self": null,
            "height": null,
            "min_height": null,
            "padding": null,
            "grid_auto_rows": null,
            "grid_gap": null,
            "max_width": null,
            "order": null,
            "_view_module_version": "1.2.0",
            "grid_template_areas": null,
            "object_position": null,
            "object_fit": null,
            "grid_auto_columns": null,
            "margin": null,
            "display": null,
            "left": null
          }
        },
        "ce0c10aac7f14491a60a9f9a8ded2ea3": {
          "model_module": "@jupyter-widgets/controls",
          "model_name": "DescriptionStyleModel",
          "state": {
            "_view_name": "StyleView",
            "_model_name": "DescriptionStyleModel",
            "description_width": "",
            "_view_module": "@jupyter-widgets/base",
            "_model_module_version": "1.5.0",
            "_view_count": null,
            "_view_module_version": "1.2.0",
            "_model_module": "@jupyter-widgets/controls"
          }
        },
        "7da0a906cc5a4346bafa5ee17c54644e": {
          "model_module": "@jupyter-widgets/base",
          "model_name": "LayoutModel",
          "state": {
            "_view_name": "LayoutView",
            "grid_template_rows": null,
            "right": null,
            "justify_content": null,
            "_view_module": "@jupyter-widgets/base",
            "overflow": null,
            "_model_module_version": "1.2.0",
            "_view_count": null,
            "flex_flow": null,
            "width": null,
            "min_width": null,
            "border": null,
            "align_items": null,
            "bottom": null,
            "_model_module": "@jupyter-widgets/base",
            "top": null,
            "grid_column": null,
            "overflow_y": null,
            "overflow_x": null,
            "grid_auto_flow": null,
            "grid_area": null,
            "grid_template_columns": null,
            "flex": null,
            "_model_name": "LayoutModel",
            "justify_items": null,
            "grid_row": null,
            "max_height": null,
            "align_content": null,
            "visibility": null,
            "align_self": null,
            "height": null,
            "min_height": null,
            "padding": null,
            "grid_auto_rows": null,
            "grid_gap": null,
            "max_width": null,
            "order": null,
            "_view_module_version": "1.2.0",
            "grid_template_areas": null,
            "object_position": null,
            "object_fit": null,
            "grid_auto_columns": null,
            "margin": null,
            "display": null,
            "left": null
          }
        },
        "33ea0b3812e34d5faf097eab67c6ae12": {
          "model_module": "@jupyter-widgets/controls",
          "model_name": "HBoxModel",
          "state": {
            "_view_name": "HBoxView",
            "_dom_classes": [],
            "_model_name": "HBoxModel",
            "_view_module": "@jupyter-widgets/controls",
            "_model_module_version": "1.5.0",
            "_view_count": null,
            "_view_module_version": "1.5.0",
            "box_style": "",
            "layout": "IPY_MODEL_b18d71e8c49c4510879ae686b0531e51",
            "_model_module": "@jupyter-widgets/controls",
            "children": [
              "IPY_MODEL_b11315da719b4acda55756f84b289565",
              "IPY_MODEL_cdab8845537a4822b6901899c7eca727"
            ]
          }
        },
        "b18d71e8c49c4510879ae686b0531e51": {
          "model_module": "@jupyter-widgets/base",
          "model_name": "LayoutModel",
          "state": {
            "_view_name": "LayoutView",
            "grid_template_rows": null,
            "right": null,
            "justify_content": null,
            "_view_module": "@jupyter-widgets/base",
            "overflow": null,
            "_model_module_version": "1.2.0",
            "_view_count": null,
            "flex_flow": null,
            "width": null,
            "min_width": null,
            "border": null,
            "align_items": null,
            "bottom": null,
            "_model_module": "@jupyter-widgets/base",
            "top": null,
            "grid_column": null,
            "overflow_y": null,
            "overflow_x": null,
            "grid_auto_flow": null,
            "grid_area": null,
            "grid_template_columns": null,
            "flex": null,
            "_model_name": "LayoutModel",
            "justify_items": null,
            "grid_row": null,
            "max_height": null,
            "align_content": null,
            "visibility": null,
            "align_self": null,
            "height": null,
            "min_height": null,
            "padding": null,
            "grid_auto_rows": null,
            "grid_gap": null,
            "max_width": null,
            "order": null,
            "_view_module_version": "1.2.0",
            "grid_template_areas": null,
            "object_position": null,
            "object_fit": null,
            "grid_auto_columns": null,
            "margin": null,
            "display": null,
            "left": null
          }
        },
        "b11315da719b4acda55756f84b289565": {
          "model_module": "@jupyter-widgets/controls",
          "model_name": "FloatProgressModel",
          "state": {
            "_view_name": "ProgressView",
            "style": "IPY_MODEL_d5306f32304f427690e63a6cfca6c5fb",
            "_dom_classes": [],
            "description": "",
            "_model_name": "FloatProgressModel",
            "bar_style": "success",
            "max": 28881,
            "_view_module": "@jupyter-widgets/controls",
            "_model_module_version": "1.5.0",
            "value": 28881,
            "_view_count": null,
            "_view_module_version": "1.5.0",
            "orientation": "horizontal",
            "min": 0,
            "description_tooltip": null,
            "_model_module": "@jupyter-widgets/controls",
            "layout": "IPY_MODEL_2c78dec5e1e54a41ba2f086a81a93be1"
          }
        },
        "cdab8845537a4822b6901899c7eca727": {
          "model_module": "@jupyter-widgets/controls",
          "model_name": "HTMLModel",
          "state": {
            "_view_name": "HTMLView",
            "style": "IPY_MODEL_a046c752621a423998c9a753311dbbfc",
            "_dom_classes": [],
            "description": "",
            "_model_name": "HTMLModel",
            "placeholder": "​",
            "_view_module": "@jupyter-widgets/controls",
            "_model_module_version": "1.5.0",
            "value": " 29696/? [00:49&lt;00:00, 598.97it/s]",
            "_view_count": null,
            "_view_module_version": "1.5.0",
            "description_tooltip": null,
            "_model_module": "@jupyter-widgets/controls",
            "layout": "IPY_MODEL_b96cd18283d34bba8dacc284f28f0699"
          }
        },
        "d5306f32304f427690e63a6cfca6c5fb": {
          "model_module": "@jupyter-widgets/controls",
          "model_name": "ProgressStyleModel",
          "state": {
            "_view_name": "StyleView",
            "_model_name": "ProgressStyleModel",
            "description_width": "initial",
            "_view_module": "@jupyter-widgets/base",
            "_model_module_version": "1.5.0",
            "_view_count": null,
            "_view_module_version": "1.2.0",
            "bar_color": null,
            "_model_module": "@jupyter-widgets/controls"
          }
        },
        "2c78dec5e1e54a41ba2f086a81a93be1": {
          "model_module": "@jupyter-widgets/base",
          "model_name": "LayoutModel",
          "state": {
            "_view_name": "LayoutView",
            "grid_template_rows": null,
            "right": null,
            "justify_content": null,
            "_view_module": "@jupyter-widgets/base",
            "overflow": null,
            "_model_module_version": "1.2.0",
            "_view_count": null,
            "flex_flow": null,
            "width": null,
            "min_width": null,
            "border": null,
            "align_items": null,
            "bottom": null,
            "_model_module": "@jupyter-widgets/base",
            "top": null,
            "grid_column": null,
            "overflow_y": null,
            "overflow_x": null,
            "grid_auto_flow": null,
            "grid_area": null,
            "grid_template_columns": null,
            "flex": null,
            "_model_name": "LayoutModel",
            "justify_items": null,
            "grid_row": null,
            "max_height": null,
            "align_content": null,
            "visibility": null,
            "align_self": null,
            "height": null,
            "min_height": null,
            "padding": null,
            "grid_auto_rows": null,
            "grid_gap": null,
            "max_width": null,
            "order": null,
            "_view_module_version": "1.2.0",
            "grid_template_areas": null,
            "object_position": null,
            "object_fit": null,
            "grid_auto_columns": null,
            "margin": null,
            "display": null,
            "left": null
          }
        },
        "a046c752621a423998c9a753311dbbfc": {
          "model_module": "@jupyter-widgets/controls",
          "model_name": "DescriptionStyleModel",
          "state": {
            "_view_name": "StyleView",
            "_model_name": "DescriptionStyleModel",
            "description_width": "",
            "_view_module": "@jupyter-widgets/base",
            "_model_module_version": "1.5.0",
            "_view_count": null,
            "_view_module_version": "1.2.0",
            "_model_module": "@jupyter-widgets/controls"
          }
        },
        "b96cd18283d34bba8dacc284f28f0699": {
          "model_module": "@jupyter-widgets/base",
          "model_name": "LayoutModel",
          "state": {
            "_view_name": "LayoutView",
            "grid_template_rows": null,
            "right": null,
            "justify_content": null,
            "_view_module": "@jupyter-widgets/base",
            "overflow": null,
            "_model_module_version": "1.2.0",
            "_view_count": null,
            "flex_flow": null,
            "width": null,
            "min_width": null,
            "border": null,
            "align_items": null,
            "bottom": null,
            "_model_module": "@jupyter-widgets/base",
            "top": null,
            "grid_column": null,
            "overflow_y": null,
            "overflow_x": null,
            "grid_auto_flow": null,
            "grid_area": null,
            "grid_template_columns": null,
            "flex": null,
            "_model_name": "LayoutModel",
            "justify_items": null,
            "grid_row": null,
            "max_height": null,
            "align_content": null,
            "visibility": null,
            "align_self": null,
            "height": null,
            "min_height": null,
            "padding": null,
            "grid_auto_rows": null,
            "grid_gap": null,
            "max_width": null,
            "order": null,
            "_view_module_version": "1.2.0",
            "grid_template_areas": null,
            "object_position": null,
            "object_fit": null,
            "grid_auto_columns": null,
            "margin": null,
            "display": null,
            "left": null
          }
        },
        "bc70c5bd9aa443be82c6b1ecf8f436e8": {
          "model_module": "@jupyter-widgets/controls",
          "model_name": "HBoxModel",
          "state": {
            "_view_name": "HBoxView",
            "_dom_classes": [],
            "_model_name": "HBoxModel",
            "_view_module": "@jupyter-widgets/controls",
            "_model_module_version": "1.5.0",
            "_view_count": null,
            "_view_module_version": "1.5.0",
            "box_style": "",
            "layout": "IPY_MODEL_82adbb0821444fdaa0d844f6ce7b8f0c",
            "_model_module": "@jupyter-widgets/controls",
            "children": [
              "IPY_MODEL_4214e270b3e64b34ace4adacff855e00",
              "IPY_MODEL_451b6a241d394879b407fb1813afa902"
            ]
          }
        },
        "82adbb0821444fdaa0d844f6ce7b8f0c": {
          "model_module": "@jupyter-widgets/base",
          "model_name": "LayoutModel",
          "state": {
            "_view_name": "LayoutView",
            "grid_template_rows": null,
            "right": null,
            "justify_content": null,
            "_view_module": "@jupyter-widgets/base",
            "overflow": null,
            "_model_module_version": "1.2.0",
            "_view_count": null,
            "flex_flow": null,
            "width": null,
            "min_width": null,
            "border": null,
            "align_items": null,
            "bottom": null,
            "_model_module": "@jupyter-widgets/base",
            "top": null,
            "grid_column": null,
            "overflow_y": null,
            "overflow_x": null,
            "grid_auto_flow": null,
            "grid_area": null,
            "grid_template_columns": null,
            "flex": null,
            "_model_name": "LayoutModel",
            "justify_items": null,
            "grid_row": null,
            "max_height": null,
            "align_content": null,
            "visibility": null,
            "align_self": null,
            "height": null,
            "min_height": null,
            "padding": null,
            "grid_auto_rows": null,
            "grid_gap": null,
            "max_width": null,
            "order": null,
            "_view_module_version": "1.2.0",
            "grid_template_areas": null,
            "object_position": null,
            "object_fit": null,
            "grid_auto_columns": null,
            "margin": null,
            "display": null,
            "left": null
          }
        },
        "4214e270b3e64b34ace4adacff855e00": {
          "model_module": "@jupyter-widgets/controls",
          "model_name": "FloatProgressModel",
          "state": {
            "_view_name": "ProgressView",
            "style": "IPY_MODEL_ae5c79108ca94cf484f2834fd6726e7c",
            "_dom_classes": [],
            "description": "",
            "_model_name": "FloatProgressModel",
            "bar_style": "success",
            "max": 1648877,
            "_view_module": "@jupyter-widgets/controls",
            "_model_module_version": "1.5.0",
            "value": 1648877,
            "_view_count": null,
            "_view_module_version": "1.5.0",
            "orientation": "horizontal",
            "min": 0,
            "description_tooltip": null,
            "_model_module": "@jupyter-widgets/controls",
            "layout": "IPY_MODEL_a17922385aec4ae2b6a0fd7c2391da31"
          }
        },
        "451b6a241d394879b407fb1813afa902": {
          "model_module": "@jupyter-widgets/controls",
          "model_name": "HTMLModel",
          "state": {
            "_view_name": "HTMLView",
            "style": "IPY_MODEL_d9a21387b38543f39ecd9d6f535dc1f2",
            "_dom_classes": [],
            "description": "",
            "_model_name": "HTMLModel",
            "placeholder": "​",
            "_view_module": "@jupyter-widgets/controls",
            "_model_module_version": "1.5.0",
            "value": " 1649664/? [00:49&lt;00:00, 33631.71it/s]",
            "_view_count": null,
            "_view_module_version": "1.5.0",
            "description_tooltip": null,
            "_model_module": "@jupyter-widgets/controls",
            "layout": "IPY_MODEL_5e14d3e6e41a4aaaac5b38d9441005f9"
          }
        },
        "ae5c79108ca94cf484f2834fd6726e7c": {
          "model_module": "@jupyter-widgets/controls",
          "model_name": "ProgressStyleModel",
          "state": {
            "_view_name": "StyleView",
            "_model_name": "ProgressStyleModel",
            "description_width": "initial",
            "_view_module": "@jupyter-widgets/base",
            "_model_module_version": "1.5.0",
            "_view_count": null,
            "_view_module_version": "1.2.0",
            "bar_color": null,
            "_model_module": "@jupyter-widgets/controls"
          }
        },
        "a17922385aec4ae2b6a0fd7c2391da31": {
          "model_module": "@jupyter-widgets/base",
          "model_name": "LayoutModel",
          "state": {
            "_view_name": "LayoutView",
            "grid_template_rows": null,
            "right": null,
            "justify_content": null,
            "_view_module": "@jupyter-widgets/base",
            "overflow": null,
            "_model_module_version": "1.2.0",
            "_view_count": null,
            "flex_flow": null,
            "width": null,
            "min_width": null,
            "border": null,
            "align_items": null,
            "bottom": null,
            "_model_module": "@jupyter-widgets/base",
            "top": null,
            "grid_column": null,
            "overflow_y": null,
            "overflow_x": null,
            "grid_auto_flow": null,
            "grid_area": null,
            "grid_template_columns": null,
            "flex": null,
            "_model_name": "LayoutModel",
            "justify_items": null,
            "grid_row": null,
            "max_height": null,
            "align_content": null,
            "visibility": null,
            "align_self": null,
            "height": null,
            "min_height": null,
            "padding": null,
            "grid_auto_rows": null,
            "grid_gap": null,
            "max_width": null,
            "order": null,
            "_view_module_version": "1.2.0",
            "grid_template_areas": null,
            "object_position": null,
            "object_fit": null,
            "grid_auto_columns": null,
            "margin": null,
            "display": null,
            "left": null
          }
        },
        "d9a21387b38543f39ecd9d6f535dc1f2": {
          "model_module": "@jupyter-widgets/controls",
          "model_name": "DescriptionStyleModel",
          "state": {
            "_view_name": "StyleView",
            "_model_name": "DescriptionStyleModel",
            "description_width": "",
            "_view_module": "@jupyter-widgets/base",
            "_model_module_version": "1.5.0",
            "_view_count": null,
            "_view_module_version": "1.2.0",
            "_model_module": "@jupyter-widgets/controls"
          }
        },
        "5e14d3e6e41a4aaaac5b38d9441005f9": {
          "model_module": "@jupyter-widgets/base",
          "model_name": "LayoutModel",
          "state": {
            "_view_name": "LayoutView",
            "grid_template_rows": null,
            "right": null,
            "justify_content": null,
            "_view_module": "@jupyter-widgets/base",
            "overflow": null,
            "_model_module_version": "1.2.0",
            "_view_count": null,
            "flex_flow": null,
            "width": null,
            "min_width": null,
            "border": null,
            "align_items": null,
            "bottom": null,
            "_model_module": "@jupyter-widgets/base",
            "top": null,
            "grid_column": null,
            "overflow_y": null,
            "overflow_x": null,
            "grid_auto_flow": null,
            "grid_area": null,
            "grid_template_columns": null,
            "flex": null,
            "_model_name": "LayoutModel",
            "justify_items": null,
            "grid_row": null,
            "max_height": null,
            "align_content": null,
            "visibility": null,
            "align_self": null,
            "height": null,
            "min_height": null,
            "padding": null,
            "grid_auto_rows": null,
            "grid_gap": null,
            "max_width": null,
            "order": null,
            "_view_module_version": "1.2.0",
            "grid_template_areas": null,
            "object_position": null,
            "object_fit": null,
            "grid_auto_columns": null,
            "margin": null,
            "display": null,
            "left": null
          }
        },
        "2da4f1f599984a02a2d5db3dd30bf251": {
          "model_module": "@jupyter-widgets/controls",
          "model_name": "HBoxModel",
          "state": {
            "_view_name": "HBoxView",
            "_dom_classes": [],
            "_model_name": "HBoxModel",
            "_view_module": "@jupyter-widgets/controls",
            "_model_module_version": "1.5.0",
            "_view_count": null,
            "_view_module_version": "1.5.0",
            "box_style": "",
            "layout": "IPY_MODEL_19791738c8ef4e128e43d63be9eb07fa",
            "_model_module": "@jupyter-widgets/controls",
            "children": [
              "IPY_MODEL_8acb5b47f14e42bfafdc9c51587d68c3",
              "IPY_MODEL_747c111b10ee44af84415447a085e321"
            ]
          }
        },
        "19791738c8ef4e128e43d63be9eb07fa": {
          "model_module": "@jupyter-widgets/base",
          "model_name": "LayoutModel",
          "state": {
            "_view_name": "LayoutView",
            "grid_template_rows": null,
            "right": null,
            "justify_content": null,
            "_view_module": "@jupyter-widgets/base",
            "overflow": null,
            "_model_module_version": "1.2.0",
            "_view_count": null,
            "flex_flow": null,
            "width": null,
            "min_width": null,
            "border": null,
            "align_items": null,
            "bottom": null,
            "_model_module": "@jupyter-widgets/base",
            "top": null,
            "grid_column": null,
            "overflow_y": null,
            "overflow_x": null,
            "grid_auto_flow": null,
            "grid_area": null,
            "grid_template_columns": null,
            "flex": null,
            "_model_name": "LayoutModel",
            "justify_items": null,
            "grid_row": null,
            "max_height": null,
            "align_content": null,
            "visibility": null,
            "align_self": null,
            "height": null,
            "min_height": null,
            "padding": null,
            "grid_auto_rows": null,
            "grid_gap": null,
            "max_width": null,
            "order": null,
            "_view_module_version": "1.2.0",
            "grid_template_areas": null,
            "object_position": null,
            "object_fit": null,
            "grid_auto_columns": null,
            "margin": null,
            "display": null,
            "left": null
          }
        },
        "8acb5b47f14e42bfafdc9c51587d68c3": {
          "model_module": "@jupyter-widgets/controls",
          "model_name": "FloatProgressModel",
          "state": {
            "_view_name": "ProgressView",
            "style": "IPY_MODEL_21920d772f6749eaa09972cd0acde702",
            "_dom_classes": [],
            "description": "",
            "_model_name": "FloatProgressModel",
            "bar_style": "success",
            "max": 4542,
            "_view_module": "@jupyter-widgets/controls",
            "_model_module_version": "1.5.0",
            "value": 4542,
            "_view_count": null,
            "_view_module_version": "1.5.0",
            "orientation": "horizontal",
            "min": 0,
            "description_tooltip": null,
            "_model_module": "@jupyter-widgets/controls",
            "layout": "IPY_MODEL_ee343c23a3e549ee861cd345701c8b3f"
          }
        },
        "747c111b10ee44af84415447a085e321": {
          "model_module": "@jupyter-widgets/controls",
          "model_name": "HTMLModel",
          "state": {
            "_view_name": "HTMLView",
            "style": "IPY_MODEL_c57c31d25d844c5db453a43346fba491",
            "_dom_classes": [],
            "description": "",
            "_model_name": "HTMLModel",
            "placeholder": "​",
            "_view_module": "@jupyter-widgets/controls",
            "_model_module_version": "1.5.0",
            "value": " 5120/? [00:00&lt;00:00, 8685.39it/s]",
            "_view_count": null,
            "_view_module_version": "1.5.0",
            "description_tooltip": null,
            "_model_module": "@jupyter-widgets/controls",
            "layout": "IPY_MODEL_3058b9d8ea974139a7ce803c5d3d4463"
          }
        },
        "21920d772f6749eaa09972cd0acde702": {
          "model_module": "@jupyter-widgets/controls",
          "model_name": "ProgressStyleModel",
          "state": {
            "_view_name": "StyleView",
            "_model_name": "ProgressStyleModel",
            "description_width": "initial",
            "_view_module": "@jupyter-widgets/base",
            "_model_module_version": "1.5.0",
            "_view_count": null,
            "_view_module_version": "1.2.0",
            "bar_color": null,
            "_model_module": "@jupyter-widgets/controls"
          }
        },
        "ee343c23a3e549ee861cd345701c8b3f": {
          "model_module": "@jupyter-widgets/base",
          "model_name": "LayoutModel",
          "state": {
            "_view_name": "LayoutView",
            "grid_template_rows": null,
            "right": null,
            "justify_content": null,
            "_view_module": "@jupyter-widgets/base",
            "overflow": null,
            "_model_module_version": "1.2.0",
            "_view_count": null,
            "flex_flow": null,
            "width": null,
            "min_width": null,
            "border": null,
            "align_items": null,
            "bottom": null,
            "_model_module": "@jupyter-widgets/base",
            "top": null,
            "grid_column": null,
            "overflow_y": null,
            "overflow_x": null,
            "grid_auto_flow": null,
            "grid_area": null,
            "grid_template_columns": null,
            "flex": null,
            "_model_name": "LayoutModel",
            "justify_items": null,
            "grid_row": null,
            "max_height": null,
            "align_content": null,
            "visibility": null,
            "align_self": null,
            "height": null,
            "min_height": null,
            "padding": null,
            "grid_auto_rows": null,
            "grid_gap": null,
            "max_width": null,
            "order": null,
            "_view_module_version": "1.2.0",
            "grid_template_areas": null,
            "object_position": null,
            "object_fit": null,
            "grid_auto_columns": null,
            "margin": null,
            "display": null,
            "left": null
          }
        },
        "c57c31d25d844c5db453a43346fba491": {
          "model_module": "@jupyter-widgets/controls",
          "model_name": "DescriptionStyleModel",
          "state": {
            "_view_name": "StyleView",
            "_model_name": "DescriptionStyleModel",
            "description_width": "",
            "_view_module": "@jupyter-widgets/base",
            "_model_module_version": "1.5.0",
            "_view_count": null,
            "_view_module_version": "1.2.0",
            "_model_module": "@jupyter-widgets/controls"
          }
        },
        "3058b9d8ea974139a7ce803c5d3d4463": {
          "model_module": "@jupyter-widgets/base",
          "model_name": "LayoutModel",
          "state": {
            "_view_name": "LayoutView",
            "grid_template_rows": null,
            "right": null,
            "justify_content": null,
            "_view_module": "@jupyter-widgets/base",
            "overflow": null,
            "_model_module_version": "1.2.0",
            "_view_count": null,
            "flex_flow": null,
            "width": null,
            "min_width": null,
            "border": null,
            "align_items": null,
            "bottom": null,
            "_model_module": "@jupyter-widgets/base",
            "top": null,
            "grid_column": null,
            "overflow_y": null,
            "overflow_x": null,
            "grid_auto_flow": null,
            "grid_area": null,
            "grid_template_columns": null,
            "flex": null,
            "_model_name": "LayoutModel",
            "justify_items": null,
            "grid_row": null,
            "max_height": null,
            "align_content": null,
            "visibility": null,
            "align_self": null,
            "height": null,
            "min_height": null,
            "padding": null,
            "grid_auto_rows": null,
            "grid_gap": null,
            "max_width": null,
            "order": null,
            "_view_module_version": "1.2.0",
            "grid_template_areas": null,
            "object_position": null,
            "object_fit": null,
            "grid_auto_columns": null,
            "margin": null,
            "display": null,
            "left": null
          }
        },
        "3fb1cf1dc55340ee824631a8ddbe29ed": {
          "model_module": "@jupyter-widgets/controls",
          "model_name": "HBoxModel",
          "state": {
            "_view_name": "HBoxView",
            "_dom_classes": [],
            "_model_name": "HBoxModel",
            "_view_module": "@jupyter-widgets/controls",
            "_model_module_version": "1.5.0",
            "_view_count": null,
            "_view_module_version": "1.5.0",
            "box_style": "",
            "layout": "IPY_MODEL_df8e8403d20640c4950deb397168e25d",
            "_model_module": "@jupyter-widgets/controls",
            "children": [
              "IPY_MODEL_d07e0c5de04b4e78860f97f70f32a41d",
              "IPY_MODEL_b84b80eb6bf94d6aba1f1873b3e5857a"
            ]
          }
        },
        "df8e8403d20640c4950deb397168e25d": {
          "model_module": "@jupyter-widgets/base",
          "model_name": "LayoutModel",
          "state": {
            "_view_name": "LayoutView",
            "grid_template_rows": null,
            "right": null,
            "justify_content": null,
            "_view_module": "@jupyter-widgets/base",
            "overflow": null,
            "_model_module_version": "1.2.0",
            "_view_count": null,
            "flex_flow": null,
            "width": null,
            "min_width": null,
            "border": null,
            "align_items": null,
            "bottom": null,
            "_model_module": "@jupyter-widgets/base",
            "top": null,
            "grid_column": null,
            "overflow_y": null,
            "overflow_x": null,
            "grid_auto_flow": null,
            "grid_area": null,
            "grid_template_columns": null,
            "flex": null,
            "_model_name": "LayoutModel",
            "justify_items": null,
            "grid_row": null,
            "max_height": null,
            "align_content": null,
            "visibility": null,
            "align_self": null,
            "height": null,
            "min_height": null,
            "padding": null,
            "grid_auto_rows": null,
            "grid_gap": null,
            "max_width": null,
            "order": null,
            "_view_module_version": "1.2.0",
            "grid_template_areas": null,
            "object_position": null,
            "object_fit": null,
            "grid_auto_columns": null,
            "margin": null,
            "display": null,
            "left": null
          }
        },
        "d07e0c5de04b4e78860f97f70f32a41d": {
          "model_module": "@jupyter-widgets/controls",
          "model_name": "FloatProgressModel",
          "state": {
            "_view_name": "ProgressView",
            "style": "IPY_MODEL_592ae2cbd9ff4776bf251946de5fc75a",
            "_dom_classes": [],
            "description": "",
            "_model_name": "FloatProgressModel",
            "bar_style": "success",
            "max": 9912422,
            "_view_module": "@jupyter-widgets/controls",
            "_model_module_version": "1.5.0",
            "value": 9912422,
            "_view_count": null,
            "_view_module_version": "1.5.0",
            "orientation": "horizontal",
            "min": 0,
            "description_tooltip": null,
            "_model_module": "@jupyter-widgets/controls",
            "layout": "IPY_MODEL_2355beb844684e8681f34f82e787d87c"
          }
        },
        "b84b80eb6bf94d6aba1f1873b3e5857a": {
          "model_module": "@jupyter-widgets/controls",
          "model_name": "HTMLModel",
          "state": {
            "_view_name": "HTMLView",
            "style": "IPY_MODEL_98db667ce1814dd78da12b91400ee275",
            "_dom_classes": [],
            "description": "",
            "_model_name": "HTMLModel",
            "placeholder": "​",
            "_view_module": "@jupyter-widgets/controls",
            "_model_module_version": "1.5.0",
            "value": " 9913344/? [00:02&lt;00:00, 3481653.01it/s]",
            "_view_count": null,
            "_view_module_version": "1.5.0",
            "description_tooltip": null,
            "_model_module": "@jupyter-widgets/controls",
            "layout": "IPY_MODEL_44c260cee2b34d4cade3a4364f86886c"
          }
        },
        "592ae2cbd9ff4776bf251946de5fc75a": {
          "model_module": "@jupyter-widgets/controls",
          "model_name": "ProgressStyleModel",
          "state": {
            "_view_name": "StyleView",
            "_model_name": "ProgressStyleModel",
            "description_width": "initial",
            "_view_module": "@jupyter-widgets/base",
            "_model_module_version": "1.5.0",
            "_view_count": null,
            "_view_module_version": "1.2.0",
            "bar_color": null,
            "_model_module": "@jupyter-widgets/controls"
          }
        },
        "2355beb844684e8681f34f82e787d87c": {
          "model_module": "@jupyter-widgets/base",
          "model_name": "LayoutModel",
          "state": {
            "_view_name": "LayoutView",
            "grid_template_rows": null,
            "right": null,
            "justify_content": null,
            "_view_module": "@jupyter-widgets/base",
            "overflow": null,
            "_model_module_version": "1.2.0",
            "_view_count": null,
            "flex_flow": null,
            "width": null,
            "min_width": null,
            "border": null,
            "align_items": null,
            "bottom": null,
            "_model_module": "@jupyter-widgets/base",
            "top": null,
            "grid_column": null,
            "overflow_y": null,
            "overflow_x": null,
            "grid_auto_flow": null,
            "grid_area": null,
            "grid_template_columns": null,
            "flex": null,
            "_model_name": "LayoutModel",
            "justify_items": null,
            "grid_row": null,
            "max_height": null,
            "align_content": null,
            "visibility": null,
            "align_self": null,
            "height": null,
            "min_height": null,
            "padding": null,
            "grid_auto_rows": null,
            "grid_gap": null,
            "max_width": null,
            "order": null,
            "_view_module_version": "1.2.0",
            "grid_template_areas": null,
            "object_position": null,
            "object_fit": null,
            "grid_auto_columns": null,
            "margin": null,
            "display": null,
            "left": null
          }
        },
        "98db667ce1814dd78da12b91400ee275": {
          "model_module": "@jupyter-widgets/controls",
          "model_name": "DescriptionStyleModel",
          "state": {
            "_view_name": "StyleView",
            "_model_name": "DescriptionStyleModel",
            "description_width": "",
            "_view_module": "@jupyter-widgets/base",
            "_model_module_version": "1.5.0",
            "_view_count": null,
            "_view_module_version": "1.2.0",
            "_model_module": "@jupyter-widgets/controls"
          }
        },
        "44c260cee2b34d4cade3a4364f86886c": {
          "model_module": "@jupyter-widgets/base",
          "model_name": "LayoutModel",
          "state": {
            "_view_name": "LayoutView",
            "grid_template_rows": null,
            "right": null,
            "justify_content": null,
            "_view_module": "@jupyter-widgets/base",
            "overflow": null,
            "_model_module_version": "1.2.0",
            "_view_count": null,
            "flex_flow": null,
            "width": null,
            "min_width": null,
            "border": null,
            "align_items": null,
            "bottom": null,
            "_model_module": "@jupyter-widgets/base",
            "top": null,
            "grid_column": null,
            "overflow_y": null,
            "overflow_x": null,
            "grid_auto_flow": null,
            "grid_area": null,
            "grid_template_columns": null,
            "flex": null,
            "_model_name": "LayoutModel",
            "justify_items": null,
            "grid_row": null,
            "max_height": null,
            "align_content": null,
            "visibility": null,
            "align_self": null,
            "height": null,
            "min_height": null,
            "padding": null,
            "grid_auto_rows": null,
            "grid_gap": null,
            "max_width": null,
            "order": null,
            "_view_module_version": "1.2.0",
            "grid_template_areas": null,
            "object_position": null,
            "object_fit": null,
            "grid_auto_columns": null,
            "margin": null,
            "display": null,
            "left": null
          }
        },
        "f193261ac2ba479faf750b2863b7f125": {
          "model_module": "@jupyter-widgets/controls",
          "model_name": "HBoxModel",
          "state": {
            "_view_name": "HBoxView",
            "_dom_classes": [],
            "_model_name": "HBoxModel",
            "_view_module": "@jupyter-widgets/controls",
            "_model_module_version": "1.5.0",
            "_view_count": null,
            "_view_module_version": "1.5.0",
            "box_style": "",
            "layout": "IPY_MODEL_f9ef986618364da69d81bc1c81fcde83",
            "_model_module": "@jupyter-widgets/controls",
            "children": [
              "IPY_MODEL_59b7c019bbeb4dc59cfea3d9077e0574",
              "IPY_MODEL_d66315b6638d4defa71c523c9a8374c2"
            ]
          }
        },
        "f9ef986618364da69d81bc1c81fcde83": {
          "model_module": "@jupyter-widgets/base",
          "model_name": "LayoutModel",
          "state": {
            "_view_name": "LayoutView",
            "grid_template_rows": null,
            "right": null,
            "justify_content": null,
            "_view_module": "@jupyter-widgets/base",
            "overflow": null,
            "_model_module_version": "1.2.0",
            "_view_count": null,
            "flex_flow": null,
            "width": null,
            "min_width": null,
            "border": null,
            "align_items": null,
            "bottom": null,
            "_model_module": "@jupyter-widgets/base",
            "top": null,
            "grid_column": null,
            "overflow_y": null,
            "overflow_x": null,
            "grid_auto_flow": null,
            "grid_area": null,
            "grid_template_columns": null,
            "flex": null,
            "_model_name": "LayoutModel",
            "justify_items": null,
            "grid_row": null,
            "max_height": null,
            "align_content": null,
            "visibility": null,
            "align_self": null,
            "height": null,
            "min_height": null,
            "padding": null,
            "grid_auto_rows": null,
            "grid_gap": null,
            "max_width": null,
            "order": null,
            "_view_module_version": "1.2.0",
            "grid_template_areas": null,
            "object_position": null,
            "object_fit": null,
            "grid_auto_columns": null,
            "margin": null,
            "display": null,
            "left": null
          }
        },
        "59b7c019bbeb4dc59cfea3d9077e0574": {
          "model_module": "@jupyter-widgets/controls",
          "model_name": "FloatProgressModel",
          "state": {
            "_view_name": "ProgressView",
            "style": "IPY_MODEL_852690dbacdf4c2fa0c229b69205dee5",
            "_dom_classes": [],
            "description": "",
            "_model_name": "FloatProgressModel",
            "bar_style": "success",
            "max": 28881,
            "_view_module": "@jupyter-widgets/controls",
            "_model_module_version": "1.5.0",
            "value": 28881,
            "_view_count": null,
            "_view_module_version": "1.5.0",
            "orientation": "horizontal",
            "min": 0,
            "description_tooltip": null,
            "_model_module": "@jupyter-widgets/controls",
            "layout": "IPY_MODEL_c7b1af4eb48d46dfa1ad967fb9504ecf"
          }
        },
        "d66315b6638d4defa71c523c9a8374c2": {
          "model_module": "@jupyter-widgets/controls",
          "model_name": "HTMLModel",
          "state": {
            "_view_name": "HTMLView",
            "style": "IPY_MODEL_5cd0ceef0c6943bf844480b18fd5fad7",
            "_dom_classes": [],
            "description": "",
            "_model_name": "HTMLModel",
            "placeholder": "​",
            "_view_module": "@jupyter-widgets/controls",
            "_model_module_version": "1.5.0",
            "value": " 29696/? [00:00&lt;00:00, 33772.78it/s]",
            "_view_count": null,
            "_view_module_version": "1.5.0",
            "description_tooltip": null,
            "_model_module": "@jupyter-widgets/controls",
            "layout": "IPY_MODEL_29cc6eaf3bf2411ead9d66629b792e27"
          }
        },
        "852690dbacdf4c2fa0c229b69205dee5": {
          "model_module": "@jupyter-widgets/controls",
          "model_name": "ProgressStyleModel",
          "state": {
            "_view_name": "StyleView",
            "_model_name": "ProgressStyleModel",
            "description_width": "initial",
            "_view_module": "@jupyter-widgets/base",
            "_model_module_version": "1.5.0",
            "_view_count": null,
            "_view_module_version": "1.2.0",
            "bar_color": null,
            "_model_module": "@jupyter-widgets/controls"
          }
        },
        "c7b1af4eb48d46dfa1ad967fb9504ecf": {
          "model_module": "@jupyter-widgets/base",
          "model_name": "LayoutModel",
          "state": {
            "_view_name": "LayoutView",
            "grid_template_rows": null,
            "right": null,
            "justify_content": null,
            "_view_module": "@jupyter-widgets/base",
            "overflow": null,
            "_model_module_version": "1.2.0",
            "_view_count": null,
            "flex_flow": null,
            "width": null,
            "min_width": null,
            "border": null,
            "align_items": null,
            "bottom": null,
            "_model_module": "@jupyter-widgets/base",
            "top": null,
            "grid_column": null,
            "overflow_y": null,
            "overflow_x": null,
            "grid_auto_flow": null,
            "grid_area": null,
            "grid_template_columns": null,
            "flex": null,
            "_model_name": "LayoutModel",
            "justify_items": null,
            "grid_row": null,
            "max_height": null,
            "align_content": null,
            "visibility": null,
            "align_self": null,
            "height": null,
            "min_height": null,
            "padding": null,
            "grid_auto_rows": null,
            "grid_gap": null,
            "max_width": null,
            "order": null,
            "_view_module_version": "1.2.0",
            "grid_template_areas": null,
            "object_position": null,
            "object_fit": null,
            "grid_auto_columns": null,
            "margin": null,
            "display": null,
            "left": null
          }
        },
        "5cd0ceef0c6943bf844480b18fd5fad7": {
          "model_module": "@jupyter-widgets/controls",
          "model_name": "DescriptionStyleModel",
          "state": {
            "_view_name": "StyleView",
            "_model_name": "DescriptionStyleModel",
            "description_width": "",
            "_view_module": "@jupyter-widgets/base",
            "_model_module_version": "1.5.0",
            "_view_count": null,
            "_view_module_version": "1.2.0",
            "_model_module": "@jupyter-widgets/controls"
          }
        },
        "29cc6eaf3bf2411ead9d66629b792e27": {
          "model_module": "@jupyter-widgets/base",
          "model_name": "LayoutModel",
          "state": {
            "_view_name": "LayoutView",
            "grid_template_rows": null,
            "right": null,
            "justify_content": null,
            "_view_module": "@jupyter-widgets/base",
            "overflow": null,
            "_model_module_version": "1.2.0",
            "_view_count": null,
            "flex_flow": null,
            "width": null,
            "min_width": null,
            "border": null,
            "align_items": null,
            "bottom": null,
            "_model_module": "@jupyter-widgets/base",
            "top": null,
            "grid_column": null,
            "overflow_y": null,
            "overflow_x": null,
            "grid_auto_flow": null,
            "grid_area": null,
            "grid_template_columns": null,
            "flex": null,
            "_model_name": "LayoutModel",
            "justify_items": null,
            "grid_row": null,
            "max_height": null,
            "align_content": null,
            "visibility": null,
            "align_self": null,
            "height": null,
            "min_height": null,
            "padding": null,
            "grid_auto_rows": null,
            "grid_gap": null,
            "max_width": null,
            "order": null,
            "_view_module_version": "1.2.0",
            "grid_template_areas": null,
            "object_position": null,
            "object_fit": null,
            "grid_auto_columns": null,
            "margin": null,
            "display": null,
            "left": null
          }
        },
        "650ff3d782d84cbbb3b9bd9bc3a83e4a": {
          "model_module": "@jupyter-widgets/controls",
          "model_name": "HBoxModel",
          "state": {
            "_view_name": "HBoxView",
            "_dom_classes": [],
            "_model_name": "HBoxModel",
            "_view_module": "@jupyter-widgets/controls",
            "_model_module_version": "1.5.0",
            "_view_count": null,
            "_view_module_version": "1.5.0",
            "box_style": "",
            "layout": "IPY_MODEL_32bcea3bea3b4f278c4e9cdff2775c51",
            "_model_module": "@jupyter-widgets/controls",
            "children": [
              "IPY_MODEL_e3bb02bd1ba54f55967006e86772f53d",
              "IPY_MODEL_c5bd78d7f1334206a41557898fc5c15e"
            ]
          }
        },
        "32bcea3bea3b4f278c4e9cdff2775c51": {
          "model_module": "@jupyter-widgets/base",
          "model_name": "LayoutModel",
          "state": {
            "_view_name": "LayoutView",
            "grid_template_rows": null,
            "right": null,
            "justify_content": null,
            "_view_module": "@jupyter-widgets/base",
            "overflow": null,
            "_model_module_version": "1.2.0",
            "_view_count": null,
            "flex_flow": null,
            "width": null,
            "min_width": null,
            "border": null,
            "align_items": null,
            "bottom": null,
            "_model_module": "@jupyter-widgets/base",
            "top": null,
            "grid_column": null,
            "overflow_y": null,
            "overflow_x": null,
            "grid_auto_flow": null,
            "grid_area": null,
            "grid_template_columns": null,
            "flex": null,
            "_model_name": "LayoutModel",
            "justify_items": null,
            "grid_row": null,
            "max_height": null,
            "align_content": null,
            "visibility": null,
            "align_self": null,
            "height": null,
            "min_height": null,
            "padding": null,
            "grid_auto_rows": null,
            "grid_gap": null,
            "max_width": null,
            "order": null,
            "_view_module_version": "1.2.0",
            "grid_template_areas": null,
            "object_position": null,
            "object_fit": null,
            "grid_auto_columns": null,
            "margin": null,
            "display": null,
            "left": null
          }
        },
        "e3bb02bd1ba54f55967006e86772f53d": {
          "model_module": "@jupyter-widgets/controls",
          "model_name": "FloatProgressModel",
          "state": {
            "_view_name": "ProgressView",
            "style": "IPY_MODEL_bdaa22b47f8841b6ac3d2a1bf509cd47",
            "_dom_classes": [],
            "description": "",
            "_model_name": "FloatProgressModel",
            "bar_style": "success",
            "max": 1648877,
            "_view_module": "@jupyter-widgets/controls",
            "_model_module_version": "1.5.0",
            "value": 1648877,
            "_view_count": null,
            "_view_module_version": "1.5.0",
            "orientation": "horizontal",
            "min": 0,
            "description_tooltip": null,
            "_model_module": "@jupyter-widgets/controls",
            "layout": "IPY_MODEL_2a9515a1c243400a8e50afc99b2565ab"
          }
        },
        "c5bd78d7f1334206a41557898fc5c15e": {
          "model_module": "@jupyter-widgets/controls",
          "model_name": "HTMLModel",
          "state": {
            "_view_name": "HTMLView",
            "style": "IPY_MODEL_eec611458e3848218fbf798b6a75a4f9",
            "_dom_classes": [],
            "description": "",
            "_model_name": "HTMLModel",
            "placeholder": "​",
            "_view_module": "@jupyter-widgets/controls",
            "_model_module_version": "1.5.0",
            "value": " 1649664/? [00:12&lt;00:00, 134710.19it/s]",
            "_view_count": null,
            "_view_module_version": "1.5.0",
            "description_tooltip": null,
            "_model_module": "@jupyter-widgets/controls",
            "layout": "IPY_MODEL_73dd8b44fed446fab0e80980a4638871"
          }
        },
        "bdaa22b47f8841b6ac3d2a1bf509cd47": {
          "model_module": "@jupyter-widgets/controls",
          "model_name": "ProgressStyleModel",
          "state": {
            "_view_name": "StyleView",
            "_model_name": "ProgressStyleModel",
            "description_width": "initial",
            "_view_module": "@jupyter-widgets/base",
            "_model_module_version": "1.5.0",
            "_view_count": null,
            "_view_module_version": "1.2.0",
            "bar_color": null,
            "_model_module": "@jupyter-widgets/controls"
          }
        },
        "2a9515a1c243400a8e50afc99b2565ab": {
          "model_module": "@jupyter-widgets/base",
          "model_name": "LayoutModel",
          "state": {
            "_view_name": "LayoutView",
            "grid_template_rows": null,
            "right": null,
            "justify_content": null,
            "_view_module": "@jupyter-widgets/base",
            "overflow": null,
            "_model_module_version": "1.2.0",
            "_view_count": null,
            "flex_flow": null,
            "width": null,
            "min_width": null,
            "border": null,
            "align_items": null,
            "bottom": null,
            "_model_module": "@jupyter-widgets/base",
            "top": null,
            "grid_column": null,
            "overflow_y": null,
            "overflow_x": null,
            "grid_auto_flow": null,
            "grid_area": null,
            "grid_template_columns": null,
            "flex": null,
            "_model_name": "LayoutModel",
            "justify_items": null,
            "grid_row": null,
            "max_height": null,
            "align_content": null,
            "visibility": null,
            "align_self": null,
            "height": null,
            "min_height": null,
            "padding": null,
            "grid_auto_rows": null,
            "grid_gap": null,
            "max_width": null,
            "order": null,
            "_view_module_version": "1.2.0",
            "grid_template_areas": null,
            "object_position": null,
            "object_fit": null,
            "grid_auto_columns": null,
            "margin": null,
            "display": null,
            "left": null
          }
        },
        "eec611458e3848218fbf798b6a75a4f9": {
          "model_module": "@jupyter-widgets/controls",
          "model_name": "DescriptionStyleModel",
          "state": {
            "_view_name": "StyleView",
            "_model_name": "DescriptionStyleModel",
            "description_width": "",
            "_view_module": "@jupyter-widgets/base",
            "_model_module_version": "1.5.0",
            "_view_count": null,
            "_view_module_version": "1.2.0",
            "_model_module": "@jupyter-widgets/controls"
          }
        },
        "73dd8b44fed446fab0e80980a4638871": {
          "model_module": "@jupyter-widgets/base",
          "model_name": "LayoutModel",
          "state": {
            "_view_name": "LayoutView",
            "grid_template_rows": null,
            "right": null,
            "justify_content": null,
            "_view_module": "@jupyter-widgets/base",
            "overflow": null,
            "_model_module_version": "1.2.0",
            "_view_count": null,
            "flex_flow": null,
            "width": null,
            "min_width": null,
            "border": null,
            "align_items": null,
            "bottom": null,
            "_model_module": "@jupyter-widgets/base",
            "top": null,
            "grid_column": null,
            "overflow_y": null,
            "overflow_x": null,
            "grid_auto_flow": null,
            "grid_area": null,
            "grid_template_columns": null,
            "flex": null,
            "_model_name": "LayoutModel",
            "justify_items": null,
            "grid_row": null,
            "max_height": null,
            "align_content": null,
            "visibility": null,
            "align_self": null,
            "height": null,
            "min_height": null,
            "padding": null,
            "grid_auto_rows": null,
            "grid_gap": null,
            "max_width": null,
            "order": null,
            "_view_module_version": "1.2.0",
            "grid_template_areas": null,
            "object_position": null,
            "object_fit": null,
            "grid_auto_columns": null,
            "margin": null,
            "display": null,
            "left": null
          }
        },
        "d32f9d9992314326b1511aa935815b3c": {
          "model_module": "@jupyter-widgets/controls",
          "model_name": "HBoxModel",
          "state": {
            "_view_name": "HBoxView",
            "_dom_classes": [],
            "_model_name": "HBoxModel",
            "_view_module": "@jupyter-widgets/controls",
            "_model_module_version": "1.5.0",
            "_view_count": null,
            "_view_module_version": "1.5.0",
            "box_style": "",
            "layout": "IPY_MODEL_734744e842ff4728b79ae2cb463cf81d",
            "_model_module": "@jupyter-widgets/controls",
            "children": [
              "IPY_MODEL_89bc81ab28ae4e0a84cbf4e801940f5a",
              "IPY_MODEL_e630471fa56b4a079930db18950b4484"
            ]
          }
        },
        "734744e842ff4728b79ae2cb463cf81d": {
          "model_module": "@jupyter-widgets/base",
          "model_name": "LayoutModel",
          "state": {
            "_view_name": "LayoutView",
            "grid_template_rows": null,
            "right": null,
            "justify_content": null,
            "_view_module": "@jupyter-widgets/base",
            "overflow": null,
            "_model_module_version": "1.2.0",
            "_view_count": null,
            "flex_flow": null,
            "width": null,
            "min_width": null,
            "border": null,
            "align_items": null,
            "bottom": null,
            "_model_module": "@jupyter-widgets/base",
            "top": null,
            "grid_column": null,
            "overflow_y": null,
            "overflow_x": null,
            "grid_auto_flow": null,
            "grid_area": null,
            "grid_template_columns": null,
            "flex": null,
            "_model_name": "LayoutModel",
            "justify_items": null,
            "grid_row": null,
            "max_height": null,
            "align_content": null,
            "visibility": null,
            "align_self": null,
            "height": null,
            "min_height": null,
            "padding": null,
            "grid_auto_rows": null,
            "grid_gap": null,
            "max_width": null,
            "order": null,
            "_view_module_version": "1.2.0",
            "grid_template_areas": null,
            "object_position": null,
            "object_fit": null,
            "grid_auto_columns": null,
            "margin": null,
            "display": null,
            "left": null
          }
        },
        "89bc81ab28ae4e0a84cbf4e801940f5a": {
          "model_module": "@jupyter-widgets/controls",
          "model_name": "FloatProgressModel",
          "state": {
            "_view_name": "ProgressView",
            "style": "IPY_MODEL_72a0dd28d0274818b921ea0f55476fee",
            "_dom_classes": [],
            "description": "",
            "_model_name": "FloatProgressModel",
            "bar_style": "success",
            "max": 4542,
            "_view_module": "@jupyter-widgets/controls",
            "_model_module_version": "1.5.0",
            "value": 4542,
            "_view_count": null,
            "_view_module_version": "1.5.0",
            "orientation": "horizontal",
            "min": 0,
            "description_tooltip": null,
            "_model_module": "@jupyter-widgets/controls",
            "layout": "IPY_MODEL_21ef831d4c3d42998b725627e448f7d6"
          }
        },
        "e630471fa56b4a079930db18950b4484": {
          "model_module": "@jupyter-widgets/controls",
          "model_name": "HTMLModel",
          "state": {
            "_view_name": "HTMLView",
            "style": "IPY_MODEL_c49e6e2085674e318f2e62159231e2c5",
            "_dom_classes": [],
            "description": "",
            "_model_name": "HTMLModel",
            "placeholder": "​",
            "_view_module": "@jupyter-widgets/controls",
            "_model_module_version": "1.5.0",
            "value": " 5120/? [00:00&lt;00:00, 19720.79it/s]",
            "_view_count": null,
            "_view_module_version": "1.5.0",
            "description_tooltip": null,
            "_model_module": "@jupyter-widgets/controls",
            "layout": "IPY_MODEL_e0f1ff521f61444896bf51bdf6ed1f39"
          }
        },
        "72a0dd28d0274818b921ea0f55476fee": {
          "model_module": "@jupyter-widgets/controls",
          "model_name": "ProgressStyleModel",
          "state": {
            "_view_name": "StyleView",
            "_model_name": "ProgressStyleModel",
            "description_width": "initial",
            "_view_module": "@jupyter-widgets/base",
            "_model_module_version": "1.5.0",
            "_view_count": null,
            "_view_module_version": "1.2.0",
            "bar_color": null,
            "_model_module": "@jupyter-widgets/controls"
          }
        },
        "21ef831d4c3d42998b725627e448f7d6": {
          "model_module": "@jupyter-widgets/base",
          "model_name": "LayoutModel",
          "state": {
            "_view_name": "LayoutView",
            "grid_template_rows": null,
            "right": null,
            "justify_content": null,
            "_view_module": "@jupyter-widgets/base",
            "overflow": null,
            "_model_module_version": "1.2.0",
            "_view_count": null,
            "flex_flow": null,
            "width": null,
            "min_width": null,
            "border": null,
            "align_items": null,
            "bottom": null,
            "_model_module": "@jupyter-widgets/base",
            "top": null,
            "grid_column": null,
            "overflow_y": null,
            "overflow_x": null,
            "grid_auto_flow": null,
            "grid_area": null,
            "grid_template_columns": null,
            "flex": null,
            "_model_name": "LayoutModel",
            "justify_items": null,
            "grid_row": null,
            "max_height": null,
            "align_content": null,
            "visibility": null,
            "align_self": null,
            "height": null,
            "min_height": null,
            "padding": null,
            "grid_auto_rows": null,
            "grid_gap": null,
            "max_width": null,
            "order": null,
            "_view_module_version": "1.2.0",
            "grid_template_areas": null,
            "object_position": null,
            "object_fit": null,
            "grid_auto_columns": null,
            "margin": null,
            "display": null,
            "left": null
          }
        },
        "c49e6e2085674e318f2e62159231e2c5": {
          "model_module": "@jupyter-widgets/controls",
          "model_name": "DescriptionStyleModel",
          "state": {
            "_view_name": "StyleView",
            "_model_name": "DescriptionStyleModel",
            "description_width": "",
            "_view_module": "@jupyter-widgets/base",
            "_model_module_version": "1.5.0",
            "_view_count": null,
            "_view_module_version": "1.2.0",
            "_model_module": "@jupyter-widgets/controls"
          }
        },
        "e0f1ff521f61444896bf51bdf6ed1f39": {
          "model_module": "@jupyter-widgets/base",
          "model_name": "LayoutModel",
          "state": {
            "_view_name": "LayoutView",
            "grid_template_rows": null,
            "right": null,
            "justify_content": null,
            "_view_module": "@jupyter-widgets/base",
            "overflow": null,
            "_model_module_version": "1.2.0",
            "_view_count": null,
            "flex_flow": null,
            "width": null,
            "min_width": null,
            "border": null,
            "align_items": null,
            "bottom": null,
            "_model_module": "@jupyter-widgets/base",
            "top": null,
            "grid_column": null,
            "overflow_y": null,
            "overflow_x": null,
            "grid_auto_flow": null,
            "grid_area": null,
            "grid_template_columns": null,
            "flex": null,
            "_model_name": "LayoutModel",
            "justify_items": null,
            "grid_row": null,
            "max_height": null,
            "align_content": null,
            "visibility": null,
            "align_self": null,
            "height": null,
            "min_height": null,
            "padding": null,
            "grid_auto_rows": null,
            "grid_gap": null,
            "max_width": null,
            "order": null,
            "_view_module_version": "1.2.0",
            "grid_template_areas": null,
            "object_position": null,
            "object_fit": null,
            "grid_auto_columns": null,
            "margin": null,
            "display": null,
            "left": null
          }
        },
        "f6a6f561c214468bb8d29cfccee564f4": {
          "model_module": "@jupyter-widgets/controls",
          "model_name": "HBoxModel",
          "state": {
            "_view_name": "HBoxView",
            "_dom_classes": [],
            "_model_name": "HBoxModel",
            "_view_module": "@jupyter-widgets/controls",
            "_model_module_version": "1.5.0",
            "_view_count": null,
            "_view_module_version": "1.5.0",
            "box_style": "",
            "layout": "IPY_MODEL_0874cd4e106d47228752da84b4cb2514",
            "_model_module": "@jupyter-widgets/controls",
            "children": [
              "IPY_MODEL_e19e429dce9c4ee9aca9e2877764f9bb",
              "IPY_MODEL_cd0dbcb5614f499cae36840a33599bd4"
            ]
          }
        },
        "0874cd4e106d47228752da84b4cb2514": {
          "model_module": "@jupyter-widgets/base",
          "model_name": "LayoutModel",
          "state": {
            "_view_name": "LayoutView",
            "grid_template_rows": null,
            "right": null,
            "justify_content": null,
            "_view_module": "@jupyter-widgets/base",
            "overflow": null,
            "_model_module_version": "1.2.0",
            "_view_count": null,
            "flex_flow": null,
            "width": null,
            "min_width": null,
            "border": null,
            "align_items": null,
            "bottom": null,
            "_model_module": "@jupyter-widgets/base",
            "top": null,
            "grid_column": null,
            "overflow_y": null,
            "overflow_x": null,
            "grid_auto_flow": null,
            "grid_area": null,
            "grid_template_columns": null,
            "flex": null,
            "_model_name": "LayoutModel",
            "justify_items": null,
            "grid_row": null,
            "max_height": null,
            "align_content": null,
            "visibility": null,
            "align_self": null,
            "height": null,
            "min_height": null,
            "padding": null,
            "grid_auto_rows": null,
            "grid_gap": null,
            "max_width": null,
            "order": null,
            "_view_module_version": "1.2.0",
            "grid_template_areas": null,
            "object_position": null,
            "object_fit": null,
            "grid_auto_columns": null,
            "margin": null,
            "display": null,
            "left": null
          }
        },
        "e19e429dce9c4ee9aca9e2877764f9bb": {
          "model_module": "@jupyter-widgets/controls",
          "model_name": "FloatProgressModel",
          "state": {
            "_view_name": "ProgressView",
            "style": "IPY_MODEL_8b317937ce9e44e8ac689bb11902f2d1",
            "_dom_classes": [],
            "description": "",
            "_model_name": "FloatProgressModel",
            "bar_style": "success",
            "max": 9912422,
            "_view_module": "@jupyter-widgets/controls",
            "_model_module_version": "1.5.0",
            "value": 9912422,
            "_view_count": null,
            "_view_module_version": "1.5.0",
            "orientation": "horizontal",
            "min": 0,
            "description_tooltip": null,
            "_model_module": "@jupyter-widgets/controls",
            "layout": "IPY_MODEL_27dcf8e6e32f4da2b851e73a3ac34cf3"
          }
        },
        "cd0dbcb5614f499cae36840a33599bd4": {
          "model_module": "@jupyter-widgets/controls",
          "model_name": "HTMLModel",
          "state": {
            "_view_name": "HTMLView",
            "style": "IPY_MODEL_720b379f5711401b8ca418b8809609f0",
            "_dom_classes": [],
            "description": "",
            "_model_name": "HTMLModel",
            "placeholder": "​",
            "_view_module": "@jupyter-widgets/controls",
            "_model_module_version": "1.5.0",
            "value": " 9913344/? [00:03&lt;00:00, 3278388.24it/s]",
            "_view_count": null,
            "_view_module_version": "1.5.0",
            "description_tooltip": null,
            "_model_module": "@jupyter-widgets/controls",
            "layout": "IPY_MODEL_d54ec01bcfe949debb30b26bb5adfa12"
          }
        },
        "8b317937ce9e44e8ac689bb11902f2d1": {
          "model_module": "@jupyter-widgets/controls",
          "model_name": "ProgressStyleModel",
          "state": {
            "_view_name": "StyleView",
            "_model_name": "ProgressStyleModel",
            "description_width": "initial",
            "_view_module": "@jupyter-widgets/base",
            "_model_module_version": "1.5.0",
            "_view_count": null,
            "_view_module_version": "1.2.0",
            "bar_color": null,
            "_model_module": "@jupyter-widgets/controls"
          }
        },
        "27dcf8e6e32f4da2b851e73a3ac34cf3": {
          "model_module": "@jupyter-widgets/base",
          "model_name": "LayoutModel",
          "state": {
            "_view_name": "LayoutView",
            "grid_template_rows": null,
            "right": null,
            "justify_content": null,
            "_view_module": "@jupyter-widgets/base",
            "overflow": null,
            "_model_module_version": "1.2.0",
            "_view_count": null,
            "flex_flow": null,
            "width": null,
            "min_width": null,
            "border": null,
            "align_items": null,
            "bottom": null,
            "_model_module": "@jupyter-widgets/base",
            "top": null,
            "grid_column": null,
            "overflow_y": null,
            "overflow_x": null,
            "grid_auto_flow": null,
            "grid_area": null,
            "grid_template_columns": null,
            "flex": null,
            "_model_name": "LayoutModel",
            "justify_items": null,
            "grid_row": null,
            "max_height": null,
            "align_content": null,
            "visibility": null,
            "align_self": null,
            "height": null,
            "min_height": null,
            "padding": null,
            "grid_auto_rows": null,
            "grid_gap": null,
            "max_width": null,
            "order": null,
            "_view_module_version": "1.2.0",
            "grid_template_areas": null,
            "object_position": null,
            "object_fit": null,
            "grid_auto_columns": null,
            "margin": null,
            "display": null,
            "left": null
          }
        },
        "720b379f5711401b8ca418b8809609f0": {
          "model_module": "@jupyter-widgets/controls",
          "model_name": "DescriptionStyleModel",
          "state": {
            "_view_name": "StyleView",
            "_model_name": "DescriptionStyleModel",
            "description_width": "",
            "_view_module": "@jupyter-widgets/base",
            "_model_module_version": "1.5.0",
            "_view_count": null,
            "_view_module_version": "1.2.0",
            "_model_module": "@jupyter-widgets/controls"
          }
        },
        "d54ec01bcfe949debb30b26bb5adfa12": {
          "model_module": "@jupyter-widgets/base",
          "model_name": "LayoutModel",
          "state": {
            "_view_name": "LayoutView",
            "grid_template_rows": null,
            "right": null,
            "justify_content": null,
            "_view_module": "@jupyter-widgets/base",
            "overflow": null,
            "_model_module_version": "1.2.0",
            "_view_count": null,
            "flex_flow": null,
            "width": null,
            "min_width": null,
            "border": null,
            "align_items": null,
            "bottom": null,
            "_model_module": "@jupyter-widgets/base",
            "top": null,
            "grid_column": null,
            "overflow_y": null,
            "overflow_x": null,
            "grid_auto_flow": null,
            "grid_area": null,
            "grid_template_columns": null,
            "flex": null,
            "_model_name": "LayoutModel",
            "justify_items": null,
            "grid_row": null,
            "max_height": null,
            "align_content": null,
            "visibility": null,
            "align_self": null,
            "height": null,
            "min_height": null,
            "padding": null,
            "grid_auto_rows": null,
            "grid_gap": null,
            "max_width": null,
            "order": null,
            "_view_module_version": "1.2.0",
            "grid_template_areas": null,
            "object_position": null,
            "object_fit": null,
            "grid_auto_columns": null,
            "margin": null,
            "display": null,
            "left": null
          }
        },
        "d6e7ea99772a449b9823170319c9cd57": {
          "model_module": "@jupyter-widgets/controls",
          "model_name": "HBoxModel",
          "state": {
            "_view_name": "HBoxView",
            "_dom_classes": [],
            "_model_name": "HBoxModel",
            "_view_module": "@jupyter-widgets/controls",
            "_model_module_version": "1.5.0",
            "_view_count": null,
            "_view_module_version": "1.5.0",
            "box_style": "",
            "layout": "IPY_MODEL_2aa3a8602723453b898ad2aa3f426de1",
            "_model_module": "@jupyter-widgets/controls",
            "children": [
              "IPY_MODEL_0d7f3b2c10ce46f8a0d4f74423a2b340",
              "IPY_MODEL_a489be7b35a1489f91eb7cf25512fe81"
            ]
          }
        },
        "2aa3a8602723453b898ad2aa3f426de1": {
          "model_module": "@jupyter-widgets/base",
          "model_name": "LayoutModel",
          "state": {
            "_view_name": "LayoutView",
            "grid_template_rows": null,
            "right": null,
            "justify_content": null,
            "_view_module": "@jupyter-widgets/base",
            "overflow": null,
            "_model_module_version": "1.2.0",
            "_view_count": null,
            "flex_flow": null,
            "width": null,
            "min_width": null,
            "border": null,
            "align_items": null,
            "bottom": null,
            "_model_module": "@jupyter-widgets/base",
            "top": null,
            "grid_column": null,
            "overflow_y": null,
            "overflow_x": null,
            "grid_auto_flow": null,
            "grid_area": null,
            "grid_template_columns": null,
            "flex": null,
            "_model_name": "LayoutModel",
            "justify_items": null,
            "grid_row": null,
            "max_height": null,
            "align_content": null,
            "visibility": null,
            "align_self": null,
            "height": null,
            "min_height": null,
            "padding": null,
            "grid_auto_rows": null,
            "grid_gap": null,
            "max_width": null,
            "order": null,
            "_view_module_version": "1.2.0",
            "grid_template_areas": null,
            "object_position": null,
            "object_fit": null,
            "grid_auto_columns": null,
            "margin": null,
            "display": null,
            "left": null
          }
        },
        "0d7f3b2c10ce46f8a0d4f74423a2b340": {
          "model_module": "@jupyter-widgets/controls",
          "model_name": "FloatProgressModel",
          "state": {
            "_view_name": "ProgressView",
            "style": "IPY_MODEL_b6517f11a6694b1fa74bc5401416e442",
            "_dom_classes": [],
            "description": "",
            "_model_name": "FloatProgressModel",
            "bar_style": "success",
            "max": 28881,
            "_view_module": "@jupyter-widgets/controls",
            "_model_module_version": "1.5.0",
            "value": 28881,
            "_view_count": null,
            "_view_module_version": "1.5.0",
            "orientation": "horizontal",
            "min": 0,
            "description_tooltip": null,
            "_model_module": "@jupyter-widgets/controls",
            "layout": "IPY_MODEL_b40b6de3632644199215cc87584848b5"
          }
        },
        "a489be7b35a1489f91eb7cf25512fe81": {
          "model_module": "@jupyter-widgets/controls",
          "model_name": "HTMLModel",
          "state": {
            "_view_name": "HTMLView",
            "style": "IPY_MODEL_f6affd74a36146e184977a548c5bb0a1",
            "_dom_classes": [],
            "description": "",
            "_model_name": "HTMLModel",
            "placeholder": "​",
            "_view_module": "@jupyter-widgets/controls",
            "_model_module_version": "1.5.0",
            "value": " 29696/? [00:01&lt;00:00, 18700.74it/s]",
            "_view_count": null,
            "_view_module_version": "1.5.0",
            "description_tooltip": null,
            "_model_module": "@jupyter-widgets/controls",
            "layout": "IPY_MODEL_31f866d5b3444d2a95f972853473be28"
          }
        },
        "b6517f11a6694b1fa74bc5401416e442": {
          "model_module": "@jupyter-widgets/controls",
          "model_name": "ProgressStyleModel",
          "state": {
            "_view_name": "StyleView",
            "_model_name": "ProgressStyleModel",
            "description_width": "initial",
            "_view_module": "@jupyter-widgets/base",
            "_model_module_version": "1.5.0",
            "_view_count": null,
            "_view_module_version": "1.2.0",
            "bar_color": null,
            "_model_module": "@jupyter-widgets/controls"
          }
        },
        "b40b6de3632644199215cc87584848b5": {
          "model_module": "@jupyter-widgets/base",
          "model_name": "LayoutModel",
          "state": {
            "_view_name": "LayoutView",
            "grid_template_rows": null,
            "right": null,
            "justify_content": null,
            "_view_module": "@jupyter-widgets/base",
            "overflow": null,
            "_model_module_version": "1.2.0",
            "_view_count": null,
            "flex_flow": null,
            "width": null,
            "min_width": null,
            "border": null,
            "align_items": null,
            "bottom": null,
            "_model_module": "@jupyter-widgets/base",
            "top": null,
            "grid_column": null,
            "overflow_y": null,
            "overflow_x": null,
            "grid_auto_flow": null,
            "grid_area": null,
            "grid_template_columns": null,
            "flex": null,
            "_model_name": "LayoutModel",
            "justify_items": null,
            "grid_row": null,
            "max_height": null,
            "align_content": null,
            "visibility": null,
            "align_self": null,
            "height": null,
            "min_height": null,
            "padding": null,
            "grid_auto_rows": null,
            "grid_gap": null,
            "max_width": null,
            "order": null,
            "_view_module_version": "1.2.0",
            "grid_template_areas": null,
            "object_position": null,
            "object_fit": null,
            "grid_auto_columns": null,
            "margin": null,
            "display": null,
            "left": null
          }
        },
        "f6affd74a36146e184977a548c5bb0a1": {
          "model_module": "@jupyter-widgets/controls",
          "model_name": "DescriptionStyleModel",
          "state": {
            "_view_name": "StyleView",
            "_model_name": "DescriptionStyleModel",
            "description_width": "",
            "_view_module": "@jupyter-widgets/base",
            "_model_module_version": "1.5.0",
            "_view_count": null,
            "_view_module_version": "1.2.0",
            "_model_module": "@jupyter-widgets/controls"
          }
        },
        "31f866d5b3444d2a95f972853473be28": {
          "model_module": "@jupyter-widgets/base",
          "model_name": "LayoutModel",
          "state": {
            "_view_name": "LayoutView",
            "grid_template_rows": null,
            "right": null,
            "justify_content": null,
            "_view_module": "@jupyter-widgets/base",
            "overflow": null,
            "_model_module_version": "1.2.0",
            "_view_count": null,
            "flex_flow": null,
            "width": null,
            "min_width": null,
            "border": null,
            "align_items": null,
            "bottom": null,
            "_model_module": "@jupyter-widgets/base",
            "top": null,
            "grid_column": null,
            "overflow_y": null,
            "overflow_x": null,
            "grid_auto_flow": null,
            "grid_area": null,
            "grid_template_columns": null,
            "flex": null,
            "_model_name": "LayoutModel",
            "justify_items": null,
            "grid_row": null,
            "max_height": null,
            "align_content": null,
            "visibility": null,
            "align_self": null,
            "height": null,
            "min_height": null,
            "padding": null,
            "grid_auto_rows": null,
            "grid_gap": null,
            "max_width": null,
            "order": null,
            "_view_module_version": "1.2.0",
            "grid_template_areas": null,
            "object_position": null,
            "object_fit": null,
            "grid_auto_columns": null,
            "margin": null,
            "display": null,
            "left": null
          }
        },
        "e61007e09dcc4688afd81516fa4997a4": {
          "model_module": "@jupyter-widgets/controls",
          "model_name": "HBoxModel",
          "state": {
            "_view_name": "HBoxView",
            "_dom_classes": [],
            "_model_name": "HBoxModel",
            "_view_module": "@jupyter-widgets/controls",
            "_model_module_version": "1.5.0",
            "_view_count": null,
            "_view_module_version": "1.5.0",
            "box_style": "",
            "layout": "IPY_MODEL_c1f875a9cf7f446e8e5678350d92a011",
            "_model_module": "@jupyter-widgets/controls",
            "children": [
              "IPY_MODEL_7a56e5cafec348a6aa5a6406cdb96b4d",
              "IPY_MODEL_a98bfc72f26a446e8e1bca0487ba28d5"
            ]
          }
        },
        "c1f875a9cf7f446e8e5678350d92a011": {
          "model_module": "@jupyter-widgets/base",
          "model_name": "LayoutModel",
          "state": {
            "_view_name": "LayoutView",
            "grid_template_rows": null,
            "right": null,
            "justify_content": null,
            "_view_module": "@jupyter-widgets/base",
            "overflow": null,
            "_model_module_version": "1.2.0",
            "_view_count": null,
            "flex_flow": null,
            "width": null,
            "min_width": null,
            "border": null,
            "align_items": null,
            "bottom": null,
            "_model_module": "@jupyter-widgets/base",
            "top": null,
            "grid_column": null,
            "overflow_y": null,
            "overflow_x": null,
            "grid_auto_flow": null,
            "grid_area": null,
            "grid_template_columns": null,
            "flex": null,
            "_model_name": "LayoutModel",
            "justify_items": null,
            "grid_row": null,
            "max_height": null,
            "align_content": null,
            "visibility": null,
            "align_self": null,
            "height": null,
            "min_height": null,
            "padding": null,
            "grid_auto_rows": null,
            "grid_gap": null,
            "max_width": null,
            "order": null,
            "_view_module_version": "1.2.0",
            "grid_template_areas": null,
            "object_position": null,
            "object_fit": null,
            "grid_auto_columns": null,
            "margin": null,
            "display": null,
            "left": null
          }
        },
        "7a56e5cafec348a6aa5a6406cdb96b4d": {
          "model_module": "@jupyter-widgets/controls",
          "model_name": "FloatProgressModel",
          "state": {
            "_view_name": "ProgressView",
            "style": "IPY_MODEL_d71d18dc52d9406fa199a86145f08a70",
            "_dom_classes": [],
            "description": "",
            "_model_name": "FloatProgressModel",
            "bar_style": "success",
            "max": 1648877,
            "_view_module": "@jupyter-widgets/controls",
            "_model_module_version": "1.5.0",
            "value": 1648877,
            "_view_count": null,
            "_view_module_version": "1.5.0",
            "orientation": "horizontal",
            "min": 0,
            "description_tooltip": null,
            "_model_module": "@jupyter-widgets/controls",
            "layout": "IPY_MODEL_7ea43dfc7d8249c38009aad10f65cf6d"
          }
        },
        "a98bfc72f26a446e8e1bca0487ba28d5": {
          "model_module": "@jupyter-widgets/controls",
          "model_name": "HTMLModel",
          "state": {
            "_view_name": "HTMLView",
            "style": "IPY_MODEL_65c59fb42a4643169b0e7d664466d888",
            "_dom_classes": [],
            "description": "",
            "_model_name": "HTMLModel",
            "placeholder": "​",
            "_view_module": "@jupyter-widgets/controls",
            "_model_module_version": "1.5.0",
            "value": " 1649664/? [00:02&lt;00:00, 669886.40it/s]",
            "_view_count": null,
            "_view_module_version": "1.5.0",
            "description_tooltip": null,
            "_model_module": "@jupyter-widgets/controls",
            "layout": "IPY_MODEL_b2e84e3a493d41b0a21454c60fb3c93d"
          }
        },
        "d71d18dc52d9406fa199a86145f08a70": {
          "model_module": "@jupyter-widgets/controls",
          "model_name": "ProgressStyleModel",
          "state": {
            "_view_name": "StyleView",
            "_model_name": "ProgressStyleModel",
            "description_width": "initial",
            "_view_module": "@jupyter-widgets/base",
            "_model_module_version": "1.5.0",
            "_view_count": null,
            "_view_module_version": "1.2.0",
            "bar_color": null,
            "_model_module": "@jupyter-widgets/controls"
          }
        },
        "7ea43dfc7d8249c38009aad10f65cf6d": {
          "model_module": "@jupyter-widgets/base",
          "model_name": "LayoutModel",
          "state": {
            "_view_name": "LayoutView",
            "grid_template_rows": null,
            "right": null,
            "justify_content": null,
            "_view_module": "@jupyter-widgets/base",
            "overflow": null,
            "_model_module_version": "1.2.0",
            "_view_count": null,
            "flex_flow": null,
            "width": null,
            "min_width": null,
            "border": null,
            "align_items": null,
            "bottom": null,
            "_model_module": "@jupyter-widgets/base",
            "top": null,
            "grid_column": null,
            "overflow_y": null,
            "overflow_x": null,
            "grid_auto_flow": null,
            "grid_area": null,
            "grid_template_columns": null,
            "flex": null,
            "_model_name": "LayoutModel",
            "justify_items": null,
            "grid_row": null,
            "max_height": null,
            "align_content": null,
            "visibility": null,
            "align_self": null,
            "height": null,
            "min_height": null,
            "padding": null,
            "grid_auto_rows": null,
            "grid_gap": null,
            "max_width": null,
            "order": null,
            "_view_module_version": "1.2.0",
            "grid_template_areas": null,
            "object_position": null,
            "object_fit": null,
            "grid_auto_columns": null,
            "margin": null,
            "display": null,
            "left": null
          }
        },
        "65c59fb42a4643169b0e7d664466d888": {
          "model_module": "@jupyter-widgets/controls",
          "model_name": "DescriptionStyleModel",
          "state": {
            "_view_name": "StyleView",
            "_model_name": "DescriptionStyleModel",
            "description_width": "",
            "_view_module": "@jupyter-widgets/base",
            "_model_module_version": "1.5.0",
            "_view_count": null,
            "_view_module_version": "1.2.0",
            "_model_module": "@jupyter-widgets/controls"
          }
        },
        "b2e84e3a493d41b0a21454c60fb3c93d": {
          "model_module": "@jupyter-widgets/base",
          "model_name": "LayoutModel",
          "state": {
            "_view_name": "LayoutView",
            "grid_template_rows": null,
            "right": null,
            "justify_content": null,
            "_view_module": "@jupyter-widgets/base",
            "overflow": null,
            "_model_module_version": "1.2.0",
            "_view_count": null,
            "flex_flow": null,
            "width": null,
            "min_width": null,
            "border": null,
            "align_items": null,
            "bottom": null,
            "_model_module": "@jupyter-widgets/base",
            "top": null,
            "grid_column": null,
            "overflow_y": null,
            "overflow_x": null,
            "grid_auto_flow": null,
            "grid_area": null,
            "grid_template_columns": null,
            "flex": null,
            "_model_name": "LayoutModel",
            "justify_items": null,
            "grid_row": null,
            "max_height": null,
            "align_content": null,
            "visibility": null,
            "align_self": null,
            "height": null,
            "min_height": null,
            "padding": null,
            "grid_auto_rows": null,
            "grid_gap": null,
            "max_width": null,
            "order": null,
            "_view_module_version": "1.2.0",
            "grid_template_areas": null,
            "object_position": null,
            "object_fit": null,
            "grid_auto_columns": null,
            "margin": null,
            "display": null,
            "left": null
          }
        },
        "755a64e903484a66898ea46f861d4063": {
          "model_module": "@jupyter-widgets/controls",
          "model_name": "HBoxModel",
          "state": {
            "_view_name": "HBoxView",
            "_dom_classes": [],
            "_model_name": "HBoxModel",
            "_view_module": "@jupyter-widgets/controls",
            "_model_module_version": "1.5.0",
            "_view_count": null,
            "_view_module_version": "1.5.0",
            "box_style": "",
            "layout": "IPY_MODEL_9bec77e41cba491aa1abcc31cc091cdf",
            "_model_module": "@jupyter-widgets/controls",
            "children": [
              "IPY_MODEL_3483dab7cf5b49cfaa90236e656a5d7f",
              "IPY_MODEL_a6e1f030910346948a9342b35f4a525d"
            ]
          }
        },
        "9bec77e41cba491aa1abcc31cc091cdf": {
          "model_module": "@jupyter-widgets/base",
          "model_name": "LayoutModel",
          "state": {
            "_view_name": "LayoutView",
            "grid_template_rows": null,
            "right": null,
            "justify_content": null,
            "_view_module": "@jupyter-widgets/base",
            "overflow": null,
            "_model_module_version": "1.2.0",
            "_view_count": null,
            "flex_flow": null,
            "width": null,
            "min_width": null,
            "border": null,
            "align_items": null,
            "bottom": null,
            "_model_module": "@jupyter-widgets/base",
            "top": null,
            "grid_column": null,
            "overflow_y": null,
            "overflow_x": null,
            "grid_auto_flow": null,
            "grid_area": null,
            "grid_template_columns": null,
            "flex": null,
            "_model_name": "LayoutModel",
            "justify_items": null,
            "grid_row": null,
            "max_height": null,
            "align_content": null,
            "visibility": null,
            "align_self": null,
            "height": null,
            "min_height": null,
            "padding": null,
            "grid_auto_rows": null,
            "grid_gap": null,
            "max_width": null,
            "order": null,
            "_view_module_version": "1.2.0",
            "grid_template_areas": null,
            "object_position": null,
            "object_fit": null,
            "grid_auto_columns": null,
            "margin": null,
            "display": null,
            "left": null
          }
        },
        "3483dab7cf5b49cfaa90236e656a5d7f": {
          "model_module": "@jupyter-widgets/controls",
          "model_name": "FloatProgressModel",
          "state": {
            "_view_name": "ProgressView",
            "style": "IPY_MODEL_64e4c161abc841cf8191a71abb18bf00",
            "_dom_classes": [],
            "description": "",
            "_model_name": "FloatProgressModel",
            "bar_style": "success",
            "max": 4542,
            "_view_module": "@jupyter-widgets/controls",
            "_model_module_version": "1.5.0",
            "value": 4542,
            "_view_count": null,
            "_view_module_version": "1.5.0",
            "orientation": "horizontal",
            "min": 0,
            "description_tooltip": null,
            "_model_module": "@jupyter-widgets/controls",
            "layout": "IPY_MODEL_7610e0c0ba904acd87d38f8223b33c0e"
          }
        },
        "a6e1f030910346948a9342b35f4a525d": {
          "model_module": "@jupyter-widgets/controls",
          "model_name": "HTMLModel",
          "state": {
            "_view_name": "HTMLView",
            "style": "IPY_MODEL_c4eec9d22e0a4cd1915e385c2309f43e",
            "_dom_classes": [],
            "description": "",
            "_model_name": "HTMLModel",
            "placeholder": "​",
            "_view_module": "@jupyter-widgets/controls",
            "_model_module_version": "1.5.0",
            "value": " 5120/? [00:00&lt;00:00, 17625.79it/s]",
            "_view_count": null,
            "_view_module_version": "1.5.0",
            "description_tooltip": null,
            "_model_module": "@jupyter-widgets/controls",
            "layout": "IPY_MODEL_0e36631c49d145e9887be6cf5177af36"
          }
        },
        "64e4c161abc841cf8191a71abb18bf00": {
          "model_module": "@jupyter-widgets/controls",
          "model_name": "ProgressStyleModel",
          "state": {
            "_view_name": "StyleView",
            "_model_name": "ProgressStyleModel",
            "description_width": "initial",
            "_view_module": "@jupyter-widgets/base",
            "_model_module_version": "1.5.0",
            "_view_count": null,
            "_view_module_version": "1.2.0",
            "bar_color": null,
            "_model_module": "@jupyter-widgets/controls"
          }
        },
        "7610e0c0ba904acd87d38f8223b33c0e": {
          "model_module": "@jupyter-widgets/base",
          "model_name": "LayoutModel",
          "state": {
            "_view_name": "LayoutView",
            "grid_template_rows": null,
            "right": null,
            "justify_content": null,
            "_view_module": "@jupyter-widgets/base",
            "overflow": null,
            "_model_module_version": "1.2.0",
            "_view_count": null,
            "flex_flow": null,
            "width": null,
            "min_width": null,
            "border": null,
            "align_items": null,
            "bottom": null,
            "_model_module": "@jupyter-widgets/base",
            "top": null,
            "grid_column": null,
            "overflow_y": null,
            "overflow_x": null,
            "grid_auto_flow": null,
            "grid_area": null,
            "grid_template_columns": null,
            "flex": null,
            "_model_name": "LayoutModel",
            "justify_items": null,
            "grid_row": null,
            "max_height": null,
            "align_content": null,
            "visibility": null,
            "align_self": null,
            "height": null,
            "min_height": null,
            "padding": null,
            "grid_auto_rows": null,
            "grid_gap": null,
            "max_width": null,
            "order": null,
            "_view_module_version": "1.2.0",
            "grid_template_areas": null,
            "object_position": null,
            "object_fit": null,
            "grid_auto_columns": null,
            "margin": null,
            "display": null,
            "left": null
          }
        },
        "c4eec9d22e0a4cd1915e385c2309f43e": {
          "model_module": "@jupyter-widgets/controls",
          "model_name": "DescriptionStyleModel",
          "state": {
            "_view_name": "StyleView",
            "_model_name": "DescriptionStyleModel",
            "description_width": "",
            "_view_module": "@jupyter-widgets/base",
            "_model_module_version": "1.5.0",
            "_view_count": null,
            "_view_module_version": "1.2.0",
            "_model_module": "@jupyter-widgets/controls"
          }
        },
        "0e36631c49d145e9887be6cf5177af36": {
          "model_module": "@jupyter-widgets/base",
          "model_name": "LayoutModel",
          "state": {
            "_view_name": "LayoutView",
            "grid_template_rows": null,
            "right": null,
            "justify_content": null,
            "_view_module": "@jupyter-widgets/base",
            "overflow": null,
            "_model_module_version": "1.2.0",
            "_view_count": null,
            "flex_flow": null,
            "width": null,
            "min_width": null,
            "border": null,
            "align_items": null,
            "bottom": null,
            "_model_module": "@jupyter-widgets/base",
            "top": null,
            "grid_column": null,
            "overflow_y": null,
            "overflow_x": null,
            "grid_auto_flow": null,
            "grid_area": null,
            "grid_template_columns": null,
            "flex": null,
            "_model_name": "LayoutModel",
            "justify_items": null,
            "grid_row": null,
            "max_height": null,
            "align_content": null,
            "visibility": null,
            "align_self": null,
            "height": null,
            "min_height": null,
            "padding": null,
            "grid_auto_rows": null,
            "grid_gap": null,
            "max_width": null,
            "order": null,
            "_view_module_version": "1.2.0",
            "grid_template_areas": null,
            "object_position": null,
            "object_fit": null,
            "grid_auto_columns": null,
            "margin": null,
            "display": null,
            "left": null
          }
        }
      }
    }
  },
  "cells": [
    {
      "cell_type": "code",
      "metadata": {
        "id": "MICsyTxUlH9G"
      },
      "source": [
        "# Learning Independent Causal Mechanisms implemented by Elaheh Hosseinkhani  \n",
        "\n",
        "\n",
        "''' ******************************************************\n",
        "****************************    imports    ***************\n",
        "********************************************************'''\n",
        "import os\n",
        "import torch\n",
        "from torch import nn\n",
        "from time import time\n",
        "from torch import optim\n",
        "import torchvision as tv\n",
        "from google.colab import drive\n",
        "import matplotlib.pyplot as plt\n",
        "from torch.utils.data import DataLoader\n",
        "import torchvision.datasets as datasets\n",
        "import torchvision.transforms as transforms\n",
        "from torchvision.datasets import ImageFolder\n",
        "import torchvision.transforms as transforms_Direction\n",
        "\n",
        "# -*- coding: utf-8 -*-\n",
        "import torch\n",
        "import matplotlib.pyplot as plt\n",
        "from time import time\n",
        "import torchvision as tv\n",
        "import torchvision.datasets as datasets\n",
        "from torch.utils.data import DataLoader\n",
        "import torchvision.transforms as InvertTransforms\n",
        "import torchvision.transforms as OriginalTransforms\n",
        "\n",
        "cuda= True\n",
        "batch_size = 1000\n",
        "device = torch.device(\"cuda\" if torch.cuda.is_available() else \"cpu\")\n",
        "\n",
        "class Data_generated:\n",
        "    def __init__(self, Realimage,TransImage,target,label,device):\n",
        "        super().__init__()\n",
        "        self.device= device\n",
        "        self.target=target.squeeze().to(self.device)\n",
        "        self.label=label.squeeze().to(self.device)\n",
        "        self.Realimage=Realimage.squeeze()\n",
        "        self.Realimage=Realimage.to(self.device)\n",
        "        self.TransImage=TransImage.squeeze()\n",
        "        self.TransImage=TransImage.to(self.device)\n",
        "    def to(self, device):\n",
        "        self.device= device\n",
        "        self.target=self.target.to(self.device)\n",
        "        self.label=self.label.to(self.device)\n",
        "        self.Realimage=Realimage.to(self.device)\n",
        "        self.TransImage=TransImage.to(self.device)\n",
        "    def __len__(self):\n",
        "      return self.image.size(0)\n",
        "    def __getitem__(self, idx):\n",
        "        if torch.is_tensor(idx):\n",
        "            idx = idx.tolist()\n",
        "\n",
        "        sample = (self.Realimage[idx],self.TransImage[idx],  self.target[idx],self.label[idx,0])\n",
        "\n",
        "        return sample\n",
        "    def size(self):\n",
        "     \n",
        "\n",
        "        sample = (self.Realimage.size(),self.TransImage.size(),  self.target.size(),self.label.size())\n",
        "\n",
        "        return sample\n",
        "    def add_data(self,x,w,y,z):\n",
        "      x=x.squeeze().to(self.device)\n",
        "      y=y.squeeze().to(self.device)\n",
        "      z=z.squeeze().to(self.device)\n",
        "      w=w.squeeze().to(self.device)\n",
        "\n",
        "\n",
        "      self.Realimage= torch.cat((self.Realimage,x),0)\n",
        "      self.TransImage= torch.cat((self.TransImage,w),0)\n",
        "\n",
        "      self.target=torch.cat((self.target,y),0)\n",
        "      self.label=torch.cat((self.label,z),0)\n",
        "\n",
        "\n",
        "\n",
        "def Invert_transform(batch_size, maximum_size ):\n",
        "  import torchvision.transforms as transforms_Direction\n",
        "  tf=  transforms_Direction.RandomAffine(degrees=0, translate=(0.0,0),  scale=(1,1), shear=(0,0,0,0))\n",
        "  root_direction=\"Invert/\"\n",
        "  transfer_type= torch.ones((batch_size, 1), device=device)\n",
        "  for i in range (batch_size):\n",
        "    transfer_type[i,0]= 6\n",
        "  print(\"label= 6 Invert\")\n",
        "\n",
        "  transforms_Direction = transforms_Direction.Compose([\n",
        "              tf,\n",
        "              transforms_Direction.ToTensor(),\n",
        "              transforms_Direction.Normalize(mean = ( 0.5,),std = ( 0.5, )), ])\n",
        "\n",
        "  Odataset_Direction = datasets.MNIST(root=root_direction, transform=transforms_Direction, download=True)\n",
        "  Odataloader_Direction = DataLoader(Odataset_Direction, batch_size=batch_size, shuffle=False)\n",
        "  transforms_Direction=None\n",
        "  import torchvision.transforms as transforms_Direction\n",
        "\n",
        "  transforms_Direction = transforms_Direction.Compose([\n",
        "              tf,\n",
        "              transforms_Direction.Resize([32,32]),\n",
        "              transforms_Direction.ToTensor(),\n",
        "              transforms_Direction.Normalize(mean = ( 0.5,),std = ( 0.5, )),\n",
        "              transforms_Direction.functional.invert,\n",
        "              \n",
        "          ])\n",
        "  \n",
        "  Idataset_Direction = datasets.MNIST(root=root_direction, transform=transforms_Direction, download=True)\n",
        "  Idataloader_Direction = DataLoader(Idataset_Direction, batch_size=batch_size, shuffle=False)\n",
        "  first= True;\n",
        "  max_batch= maximum_size/batch_size\n",
        "  for batch, (samples_Direction, y) in enumerate(Odataloader_Direction):\n",
        "    if (batch<=max_batch):\n",
        "      samples_Direction=samples_Direction.squeeze()\n",
        "      if first== True:\n",
        "        Real= samples_Direction\n",
        "        first=False\n",
        "      else:\n",
        "        Real=torch.cat((Real,samples_Direction),0) #fake[i] = generated image by experts[i] \n",
        "        \n",
        "\n",
        "\n",
        "\n",
        "\n",
        "  first= True;\n",
        "  max_batch= maximum_size/batch_size\n",
        "  for batch, (samples_Direction, y) in enumerate(Idataloader_Direction):\n",
        "    if (batch<=max_batch):\n",
        "      samples_Direction=samples_Direction.squeeze()\n",
        "      if first== True:\n",
        "        generated= samples_Direction\n",
        "        target= y\n",
        "        transfer_Type= transfer_type\n",
        "        first=False\n",
        "      else:\n",
        "        generated=torch.cat((generated,samples_Direction),0) #fake[i] = generated image by experts[i] \n",
        "        target=torch.cat((target,y),0)\n",
        "        transfer_Type=torch.cat((transfer_Type,transfer_type),0)\n",
        "\n",
        "    \n",
        "  return Real.squeeze(), generated.squeeze() ,target.squeeze(),transfer_Type.squeeze()\n",
        "\n",
        "  import torchvision.transforms as transforms_Direction\n",
        "  tf=  transforms_Direction.RandomAffine(degrees=0, translate=(0.0,0),  scale=(1,1), shear=(0,0,0,0))\n",
        "  root_direction=\"Invert/\"\n",
        "  transfer_type= torch.ones((batch_size, 1), device=device)\n",
        "  for i in range (batch_size):\n",
        "    transfer_type[i,0]= 6\n",
        "  print(\"label= 6 Invert\")\n",
        "\n",
        "  transforms_Direction = transforms_Direction.Compose([\n",
        "              tf,\n",
        "              transforms_Direction.ToTensor(),\n",
        "              transforms_Direction.Normalize(mean = ( 0.5,),std = ( 0.5, )), ])\n",
        "\n",
        "  Odataset_Direction = datasets.MNIST(root=root_direction, transform=transforms_Direction, download=True)\n",
        "  Odataloader_Direction = DataLoader(Odataset_Direction, batch_size=batch_size, shuffle=False)\n",
        "  transforms_Direction=None\n",
        "  import torchvision.transforms as transforms_Direction\n",
        "\n",
        "  transforms_Direction = transforms_Direction.Compose([\n",
        "              tf,\n",
        "              transforms_Direction.Resize([32,32]),\n",
        "              transforms_Direction.ToTensor(),\n",
        "              transforms_Direction.Normalize(mean = ( 0.5,),std = ( 0.5, )),\n",
        "              transforms_Direction.functional.invert,\n",
        "              \n",
        "          ])\n",
        "  \n",
        "  Idataset_Direction = datasets.MNIST(root=root_direction, transform=transforms_Direction, download=True)\n",
        "  Idataloader_Direction = DataLoader(Idataset_Direction, batch_size=batch_size, shuffle=False)\n",
        "  first= True;\n",
        "  max_batch= maximum_size/batch_size\n",
        "  for batch, (samples_Direction, y) in enumerate(Odataloader_Direction):\n",
        "    if (batch<=max_batch):\n",
        "      samples_Direction=samples_Direction.squeeze()\n",
        "      if first== True:\n",
        "        Real= samples_Direction\n",
        "        first=False\n",
        "      else:\n",
        "        Real=torch.cat((Real,samples_Direction),0) #fake[i] = generated image by experts[i] \n",
        "        \n",
        "\n",
        "\n",
        "\n",
        "\n",
        "  first= True;\n",
        "  max_batch= maximum_size/batch_size\n",
        "  for batch, (samples_Direction, y) in enumerate(Idataloader_Direction):\n",
        "    if (batch<=max_batch):\n",
        "      samples_Direction=samples_Direction.squeeze()\n",
        "      if first== True:\n",
        "        generated= samples_Direction\n",
        "        target= y\n",
        "        transfer_Type= transfer_type\n",
        "        first=False\n",
        "      else:\n",
        "        generated=torch.cat((generated,samples_Direction),0) #fake[i] = generated image by experts[i] \n",
        "        target=torch.cat((target,y),0)\n",
        "        transfer_Type=torch.cat((transfer_Type,transfer_type),0)\n",
        "\n",
        "    \n",
        "  return Real.squeeze(), generated.squeeze() ,target.squeeze(),transfer_Type.squeeze()\n",
        "\n",
        "\n"
      ],
      "execution_count": null,
      "outputs": []
    },
    {
      "cell_type": "code",
      "metadata": {
        "id": "4MdIA7LE1ojE"
      },
      "source": [
        "import torch\n",
        "import matplotlib.pyplot as plt\n",
        "from time import time\n",
        "import torchvision as tv\n",
        "import torchvision.datasets as datasets\n",
        "from torch.utils.data import DataLoader\n",
        "import torchvision.transforms as transforms_Direction\n",
        "\n",
        "cuda= True\n",
        "batch_size = 1000\n",
        "device = torch.device(\"cuda\" if torch.cuda.is_available() else \"cpu\")\n",
        "\n",
        "def RotateLeft_transform( batch_size, maximum_size ):\n",
        "  import torchvision.transforms as transforms_Direction\n",
        "  tf=  transforms_Direction.RandomAffine(degrees=0, translate=(0.0,0),  scale=(1,1), shear=(0,0,0,0))\n",
        "  root_direction=\"RotateLeft/\"\n",
        "  transfer_type= torch.ones((batch_size, 1), device=device)\n",
        "  for i in range (batch_size):\n",
        "    transfer_type[i,0]= 2\n",
        "  print(\"label= 2 Rotate Left\")\n",
        "\n",
        "  transforms_Direction = transforms_Direction.Compose([\n",
        "              tf,\n",
        "              transforms_Direction.ToTensor(),\n",
        "              transforms_Direction.Normalize(mean = ( 0.5,),std = ( 0.5, )), ])\n",
        "\n",
        "  Odataset_Direction = datasets.MNIST(root=root_direction, transform=transforms_Direction, download=True)\n",
        "  Odataloader_Direction = DataLoader(Odataset_Direction, batch_size=batch_size, shuffle=False)\n",
        "  transforms_Direction=None\n",
        "  import torchvision.transforms as transforms_Direction\n",
        "  tf=  transforms_Direction.RandomAffine(degrees=(20,40), translate=(0.0,0),  scale=(1,1), shear=(0,0,0,0))\n",
        "\n",
        "  transforms_Direction = transforms_Direction.Compose([\n",
        "              tf,\n",
        "              transforms_Direction.Resize([32,32]),\n",
        "              transforms_Direction.ToTensor(),\n",
        "              transforms_Direction.Normalize(mean = ( 0.5,),std = ( 0.5, )),\n",
        "              \n",
        "          ])\n",
        "  \n",
        "  Idataset_Direction = datasets.MNIST(root=root_direction, transform=transforms_Direction, download=True)\n",
        "  Idataloader_Direction = DataLoader(Idataset_Direction, batch_size=batch_size, shuffle=False)\n",
        "  first= True;\n",
        "  max_batch= maximum_size/batch_size\n",
        "  for batch, (samples_Direction, y) in enumerate(Odataloader_Direction):\n",
        "    if (batch<=max_batch):\n",
        "      samples_Direction=samples_Direction.squeeze()\n",
        "      if first== True:\n",
        "        Real= samples_Direction\n",
        "        first=False\n",
        "      else:\n",
        "        Real=torch.cat((Real,samples_Direction),0) #fake[i] = generated image by experts[i] \n",
        "        \n",
        "\n",
        "\n",
        "\n",
        "\n",
        "  first= True;\n",
        "  max_batch= maximum_size/batch_size\n",
        "  for batch, (samples_Direction, y) in enumerate(Idataloader_Direction):\n",
        "    if (batch<=max_batch):\n",
        "      samples_Direction=samples_Direction.squeeze()\n",
        "      if first== True:\n",
        "        generated= samples_Direction\n",
        "        target= y\n",
        "        transfer_Type= transfer_type\n",
        "        first=False\n",
        "      else:\n",
        "        generated=torch.cat((generated,samples_Direction),0) #fake[i] = generated image by experts[i] \n",
        "        target=torch.cat((target,y),0)\n",
        "        transfer_Type=torch.cat((transfer_Type,transfer_type),0)\n",
        "\n",
        "    \n",
        "  return Real.squeeze(), generated.squeeze() ,target.squeeze(),transfer_Type.squeeze()\n",
        "\n",
        "\n",
        "\n",
        "\n",
        "\n",
        "#====================================================================================================================\n",
        "\n",
        "\n"
      ],
      "execution_count": null,
      "outputs": []
    },
    {
      "cell_type": "code",
      "metadata": {
        "id": "y_a1UrGLRO3A"
      },
      "source": [
        "import torch\n",
        "import matplotlib.pyplot as plt\n",
        "from time import time\n",
        "import torchvision as tv\n",
        "import torchvision.datasets as datasets\n",
        "from torch.utils.data import DataLoader\n",
        "import torchvision.transforms as transforms_Direction\n",
        "\n",
        "cuda= True\n",
        "batch_size = 1000\n",
        "device = torch.device(\"cuda\" if torch.cuda.is_available() else \"cpu\")\n",
        "\n",
        "def RotateRight_transform( batch_size, maximum_size ):\n",
        "  import torchvision.transforms as transforms_Direction\n",
        "  tf=  transforms_Direction.RandomAffine(degrees=0, translate=(0.0,0),  scale=(1,1), shear=(0,0,0,0))\n",
        "  root_direction=\"RotateRight/\"\n",
        "  transfer_type= torch.ones((batch_size, 1), device=device)\n",
        "  for i in range (batch_size):\n",
        "    transfer_type[i,0]= 3\n",
        "  print(\"label= 3 Rotate Right\")\n",
        "\n",
        "  transforms_Direction = transforms_Direction.Compose([\n",
        "              tf,\n",
        "              transforms_Direction.ToTensor(),\n",
        "              transforms_Direction.Normalize(mean = ( 0.5,),std = ( 0.5, )), ])\n",
        "\n",
        "  Odataset_Direction = datasets.MNIST(root=root_direction, transform=transforms_Direction, download=True)\n",
        "  Odataloader_Direction = DataLoader(Odataset_Direction, batch_size=batch_size, shuffle=False)\n",
        "  transforms_Direction=None\n",
        "  import torchvision.transforms as transforms_Direction\n",
        "  tf=  transforms_Direction.RandomAffine(degrees=(-30,-20), translate=(0.0,0),  scale=(1,1), shear=(0,0,0,0))\n",
        "\n",
        "  transforms_Direction = transforms_Direction.Compose([\n",
        "              tf,\n",
        "              transforms_Direction.Resize([32,32]),\n",
        "              transforms_Direction.ToTensor(),\n",
        "              transforms_Direction.Normalize(mean = ( 0.5,),std = ( 0.5, )),\n",
        "              \n",
        "          ])\n",
        "  \n",
        "  Idataset_Direction = datasets.MNIST(root=root_direction, transform=transforms_Direction, download=True)\n",
        "  Idataloader_Direction = DataLoader(Idataset_Direction, batch_size=batch_size, shuffle=False)\n",
        "  first= True;\n",
        "  max_batch= maximum_size/batch_size\n",
        "  for batch, (samples_Direction, y) in enumerate(Odataloader_Direction):\n",
        "    if (batch<=max_batch):\n",
        "      samples_Direction=samples_Direction.squeeze()\n",
        "      if first== True:\n",
        "        Real= samples_Direction\n",
        "        first=False\n",
        "      else:\n",
        "        Real=torch.cat((Real,samples_Direction),0) #fake[i] = generated image by experts[i] \n",
        "        \n",
        "\n",
        "\n",
        "\n",
        "\n",
        "  first= True;\n",
        "  max_batch= maximum_size/batch_size\n",
        "  for batch, (samples_Direction, y) in enumerate(Idataloader_Direction):\n",
        "    if (batch<=max_batch):\n",
        "      samples_Direction=samples_Direction.squeeze()\n",
        "      if first== True:\n",
        "        generated= samples_Direction\n",
        "        target= y\n",
        "        transfer_Type= transfer_type\n",
        "        first=False\n",
        "      else:\n",
        "        generated=torch.cat((generated,samples_Direction),0) #fake[i] = generated image by experts[i] \n",
        "        target=torch.cat((target,y),0)\n",
        "        transfer_Type=torch.cat((transfer_Type,transfer_type),0)\n",
        "\n",
        "    \n",
        "  return Real.squeeze(), generated.squeeze() ,target.squeeze(),transfer_Type.squeeze()\n",
        "\n",
        "\n",
        "\n",
        "\n",
        "\n",
        "#====================================================================================================================\n",
        "\n",
        "\n"
      ],
      "execution_count": null,
      "outputs": []
    },
    {
      "cell_type": "code",
      "metadata": {
        "id": "yNuNb7JKRgow"
      },
      "source": [
        "import torch\n",
        "import matplotlib.pyplot as plt\n",
        "from time import time\n",
        "import torchvision as tv\n",
        "import torchvision.datasets as datasets\n",
        "from torch.utils.data import DataLoader\n",
        "import torchvision.transforms as transforms_Direction\n",
        "\n",
        "cuda= True\n",
        "batch_size = 1000\n",
        "device = torch.device(\"cuda\" if torch.cuda.is_available() else \"cpu\")\n",
        "\n",
        "def RotateLeft_transform( batch_size, maximum_size ):\n",
        "  import torchvision.transforms as transforms_Direction\n",
        "  tf=  transforms_Direction.RandomAffine(degrees=0, translate=(0.0,0),  scale=(1,1), shear=(0,0,0,0))\n",
        "  root_direction=\"RotateLeft/\"\n",
        "  transfer_type= torch.ones((batch_size, 1), device=device)\n",
        "  for i in range (batch_size):\n",
        "    transfer_type[i,0]= 2\n",
        "  print(\"label= 2 Rotate Left\")\n",
        "\n",
        "  transforms_Direction = transforms_Direction.Compose([\n",
        "              tf,\n",
        "              transforms_Direction.ToTensor(),\n",
        "              transforms_Direction.Normalize(mean = ( 0.5,),std = ( 0.5, )), ])\n",
        "\n",
        "  Odataset_Direction = datasets.MNIST(root=root_direction, transform=transforms_Direction, download=True)\n",
        "  Odataloader_Direction = DataLoader(Odataset_Direction, batch_size=batch_size, shuffle=False)\n",
        "  transforms_Direction=None\n",
        "  import torchvision.transforms as transforms_Direction\n",
        "  tf=  transforms_Direction.RandomAffine(degrees=(20,40), translate=(0.0,0),  scale=(1,1), shear=(0,0,0,0))\n",
        "\n",
        "  transforms_Direction = transforms_Direction.Compose([\n",
        "              tf,\n",
        "              transforms_Direction.Resize([32,32]),\n",
        "              transforms_Direction.ToTensor(),\n",
        "              transforms_Direction.Normalize(mean = ( 0.5,),std = ( 0.5, )),\n",
        "              \n",
        "          ])\n",
        "  \n",
        "  Idataset_Direction = datasets.MNIST(root=root_direction, transform=transforms_Direction, download=True)\n",
        "  Idataloader_Direction = DataLoader(Idataset_Direction, batch_size=batch_size, shuffle=False)\n",
        "  first= True;\n",
        "  max_batch= maximum_size/batch_size\n",
        "  for batch, (samples_Direction, y) in enumerate(Odataloader_Direction):\n",
        "    if (batch<=max_batch):\n",
        "      samples_Direction=samples_Direction.squeeze()\n",
        "      if first== True:\n",
        "        Real= samples_Direction\n",
        "        first=False\n",
        "      else:\n",
        "        Real=torch.cat((Real,samples_Direction),0) #fake[i] = generated image by experts[i] \n",
        "        \n",
        "\n",
        "\n",
        "\n",
        "\n",
        "  first= True;\n",
        "  max_batch= maximum_size/batch_size\n",
        "  for batch, (samples_Direction, y) in enumerate(Idataloader_Direction):\n",
        "    if (batch<=max_batch):\n",
        "      samples_Direction=samples_Direction.squeeze()\n",
        "      if first== True:\n",
        "        generated= samples_Direction\n",
        "        target= y\n",
        "        transfer_Type= transfer_type\n",
        "        first=False\n",
        "      else:\n",
        "        generated=torch.cat((generated,samples_Direction),0) #fake[i] = generated image by experts[i] \n",
        "        target=torch.cat((target,y),0)\n",
        "        transfer_Type=torch.cat((transfer_Type,transfer_type),0)\n",
        "\n",
        "    \n",
        "  return Real.squeeze(), generated.squeeze() ,target.squeeze(),transfer_Type.squeeze()\n",
        "\n",
        "\n",
        "\n",
        "\n",
        "\n",
        "#====================================================================================================================\n",
        "\n",
        "\n"
      ],
      "execution_count": null,
      "outputs": []
    },
    {
      "cell_type": "code",
      "metadata": {
        "colab": {
          "base_uri": "https://localhost:8080/",
          "height": 1000,
          "referenced_widgets": [
            "7da25a23262d4dfbb2ca6668f9f1aecb",
            "2595ac54bc604249bdfcb5d4e78f0db2",
            "2f4b196fe08d4f3ca09051dcde530f38",
            "6fd8d83247e944d49a8848dfe322a1fa",
            "4e9a2b4f48d844c4aec42f63374f5895",
            "e1656d5f6e854699b21371ac03efa5d8",
            "ce0c10aac7f14491a60a9f9a8ded2ea3",
            "7da0a906cc5a4346bafa5ee17c54644e",
            "33ea0b3812e34d5faf097eab67c6ae12",
            "b18d71e8c49c4510879ae686b0531e51",
            "b11315da719b4acda55756f84b289565",
            "cdab8845537a4822b6901899c7eca727",
            "d5306f32304f427690e63a6cfca6c5fb",
            "2c78dec5e1e54a41ba2f086a81a93be1",
            "a046c752621a423998c9a753311dbbfc",
            "b96cd18283d34bba8dacc284f28f0699",
            "bc70c5bd9aa443be82c6b1ecf8f436e8",
            "82adbb0821444fdaa0d844f6ce7b8f0c",
            "4214e270b3e64b34ace4adacff855e00",
            "451b6a241d394879b407fb1813afa902",
            "ae5c79108ca94cf484f2834fd6726e7c",
            "a17922385aec4ae2b6a0fd7c2391da31",
            "d9a21387b38543f39ecd9d6f535dc1f2",
            "5e14d3e6e41a4aaaac5b38d9441005f9",
            "2da4f1f599984a02a2d5db3dd30bf251",
            "19791738c8ef4e128e43d63be9eb07fa",
            "8acb5b47f14e42bfafdc9c51587d68c3",
            "747c111b10ee44af84415447a085e321",
            "21920d772f6749eaa09972cd0acde702",
            "ee343c23a3e549ee861cd345701c8b3f",
            "c57c31d25d844c5db453a43346fba491",
            "3058b9d8ea974139a7ce803c5d3d4463",
            "3fb1cf1dc55340ee824631a8ddbe29ed",
            "df8e8403d20640c4950deb397168e25d",
            "d07e0c5de04b4e78860f97f70f32a41d",
            "b84b80eb6bf94d6aba1f1873b3e5857a",
            "592ae2cbd9ff4776bf251946de5fc75a",
            "2355beb844684e8681f34f82e787d87c",
            "98db667ce1814dd78da12b91400ee275",
            "44c260cee2b34d4cade3a4364f86886c",
            "f193261ac2ba479faf750b2863b7f125",
            "f9ef986618364da69d81bc1c81fcde83",
            "59b7c019bbeb4dc59cfea3d9077e0574",
            "d66315b6638d4defa71c523c9a8374c2",
            "852690dbacdf4c2fa0c229b69205dee5",
            "c7b1af4eb48d46dfa1ad967fb9504ecf",
            "5cd0ceef0c6943bf844480b18fd5fad7",
            "29cc6eaf3bf2411ead9d66629b792e27",
            "650ff3d782d84cbbb3b9bd9bc3a83e4a",
            "32bcea3bea3b4f278c4e9cdff2775c51",
            "e3bb02bd1ba54f55967006e86772f53d",
            "c5bd78d7f1334206a41557898fc5c15e",
            "bdaa22b47f8841b6ac3d2a1bf509cd47",
            "2a9515a1c243400a8e50afc99b2565ab",
            "eec611458e3848218fbf798b6a75a4f9",
            "73dd8b44fed446fab0e80980a4638871",
            "d32f9d9992314326b1511aa935815b3c",
            "734744e842ff4728b79ae2cb463cf81d",
            "89bc81ab28ae4e0a84cbf4e801940f5a",
            "e630471fa56b4a079930db18950b4484",
            "72a0dd28d0274818b921ea0f55476fee",
            "21ef831d4c3d42998b725627e448f7d6",
            "c49e6e2085674e318f2e62159231e2c5",
            "e0f1ff521f61444896bf51bdf6ed1f39",
            "f6a6f561c214468bb8d29cfccee564f4",
            "0874cd4e106d47228752da84b4cb2514",
            "e19e429dce9c4ee9aca9e2877764f9bb",
            "cd0dbcb5614f499cae36840a33599bd4",
            "8b317937ce9e44e8ac689bb11902f2d1",
            "27dcf8e6e32f4da2b851e73a3ac34cf3",
            "720b379f5711401b8ca418b8809609f0",
            "d54ec01bcfe949debb30b26bb5adfa12",
            "d6e7ea99772a449b9823170319c9cd57",
            "2aa3a8602723453b898ad2aa3f426de1",
            "0d7f3b2c10ce46f8a0d4f74423a2b340",
            "a489be7b35a1489f91eb7cf25512fe81",
            "b6517f11a6694b1fa74bc5401416e442",
            "b40b6de3632644199215cc87584848b5",
            "f6affd74a36146e184977a548c5bb0a1",
            "31f866d5b3444d2a95f972853473be28",
            "e61007e09dcc4688afd81516fa4997a4",
            "c1f875a9cf7f446e8e5678350d92a011",
            "7a56e5cafec348a6aa5a6406cdb96b4d",
            "a98bfc72f26a446e8e1bca0487ba28d5",
            "d71d18dc52d9406fa199a86145f08a70",
            "7ea43dfc7d8249c38009aad10f65cf6d",
            "65c59fb42a4643169b0e7d664466d888",
            "b2e84e3a493d41b0a21454c60fb3c93d",
            "755a64e903484a66898ea46f861d4063",
            "9bec77e41cba491aa1abcc31cc091cdf",
            "3483dab7cf5b49cfaa90236e656a5d7f",
            "a6e1f030910346948a9342b35f4a525d",
            "64e4c161abc841cf8191a71abb18bf00",
            "7610e0c0ba904acd87d38f8223b33c0e",
            "c4eec9d22e0a4cd1915e385c2309f43e",
            "0e36631c49d145e9887be6cf5177af36"
          ]
        },
        "id": "aeaysaz-1k8W",
        "outputId": "88c8e255-7314-4645-f701-4e7e502ebc1d"
      },
      "source": [
        "def create_invert_dataset (count):\n",
        "\n",
        "  Real_image,Invert_image ,  Invert_target, Invert_Label= Invert_transform(batch_size,count)\n",
        "\n",
        "  All_Data= Data_generated(Real_image,Invert_image ,Invert_target,Invert_Label,'cuda')\n",
        "  Real_image,Invert_image ,  Invert_target, Invert_Label= RotateRight_transform(batch_size,count)\n",
        "  All_Data.add_data(Real_image,Invert_image ,Invert_target,Invert_Label)\n",
        "\n",
        "  Real_image,Invert_image ,  Invert_target, Invert_Label= RotateLeft_transform(batch_size,count)\n",
        "  All_Data.add_data(Real_image,Invert_image ,Invert_target,Invert_Label)\n",
        "\n",
        " \n",
        " \n",
        "  return All_Data\n",
        "\n",
        "Invert_Data=create_invert_dataset(count= 20000)\n",
        "\n",
        "#\n",
        "import matplotlib.pyplot as plt\n",
        "\n",
        "\n",
        "print(\"answer\", Invert_Data.size())\n",
        "def show_images():\n",
        "    gen_imgs= Invert_Data.Realimage[1:17,].to('cpu').detach().numpy() .squeeze()\n",
        "\n",
        "\n",
        "    fig,axs = plt.subplots(4,4,figsize=(8,8),sharey=True,sharex=True)\n",
        "\n",
        "    cnt=0\n",
        "    for i in range(4):\n",
        "        for j in range(4):\n",
        "            axs[i, j].imshow(gen_imgs[cnt,],cmap='gray')\n",
        "            axs[i, j].axis('off')\n",
        "            cnt+=1\n",
        "\n",
        "    plt.show()\n",
        "    cnt=0\n",
        "import torchvision\n",
        "def show_Invert_images():\n",
        "    gen_imgs= Invert_Data.TransImage[1:17,].to('cpu').detach().numpy() .squeeze()\n",
        "\n",
        "    fig,axs = plt.subplots(4,4,figsize=(8,8),sharey=True,sharex=True)\n",
        "\n",
        "    cnt=0\n",
        "    for i in range(4):\n",
        "        for j in range(4):\n",
        "            axs[i, j].imshow(gen_imgs[cnt,],cmap='gray')\n",
        "            axs[i, j].axis('off')\n",
        "            cnt+=1\n",
        "\n",
        "    plt.show()\n",
        "\n",
        "\n",
        "show_images()\n",
        "show_Invert_images()\n",
        "\n",
        "import os\n",
        "import torch\n",
        "from google.colab import drive\n",
        "drive.mount('/content/gdrive')\n",
        "corpus = os.path.join(\"/content/gdrive/MyDrive/Colab Notebooks/Data/\", 'Invert_Data.pt')\n",
        "torch.save(Invert_Data,corpus)\n"
      ],
      "execution_count": null,
      "outputs": [
        {
          "output_type": "stream",
          "text": [
            "label= 6 Invert\n",
            "Downloading http://yann.lecun.com/exdb/mnist/train-images-idx3-ubyte.gz\n",
            "Downloading http://yann.lecun.com/exdb/mnist/train-images-idx3-ubyte.gz to Invert/MNIST/raw/train-images-idx3-ubyte.gz\n"
          ],
          "name": "stdout"
        },
        {
          "output_type": "display_data",
          "data": {
            "application/vnd.jupyter.widget-view+json": {
              "model_id": "7da25a23262d4dfbb2ca6668f9f1aecb",
              "version_minor": 0,
              "version_major": 2
            },
            "text/plain": [
              "HBox(children=(FloatProgress(value=0.0, max=9912422.0), HTML(value='')))"
            ]
          },
          "metadata": {
            "tags": []
          }
        },
        {
          "output_type": "stream",
          "text": [
            "\n",
            "Extracting Invert/MNIST/raw/train-images-idx3-ubyte.gz to Invert/MNIST/raw\n",
            "\n",
            "Downloading http://yann.lecun.com/exdb/mnist/train-labels-idx1-ubyte.gz\n",
            "Downloading http://yann.lecun.com/exdb/mnist/train-labels-idx1-ubyte.gz to Invert/MNIST/raw/train-labels-idx1-ubyte.gz\n"
          ],
          "name": "stdout"
        },
        {
          "output_type": "display_data",
          "data": {
            "application/vnd.jupyter.widget-view+json": {
              "model_id": "33ea0b3812e34d5faf097eab67c6ae12",
              "version_minor": 0,
              "version_major": 2
            },
            "text/plain": [
              "HBox(children=(FloatProgress(value=0.0, max=28881.0), HTML(value='')))"
            ]
          },
          "metadata": {
            "tags": []
          }
        },
        {
          "output_type": "stream",
          "text": [
            "\n",
            "Extracting Invert/MNIST/raw/train-labels-idx1-ubyte.gz to Invert/MNIST/raw\n",
            "\n",
            "Downloading http://yann.lecun.com/exdb/mnist/t10k-images-idx3-ubyte.gz\n",
            "Downloading http://yann.lecun.com/exdb/mnist/t10k-images-idx3-ubyte.gz to Invert/MNIST/raw/t10k-images-idx3-ubyte.gz\n"
          ],
          "name": "stdout"
        },
        {
          "output_type": "display_data",
          "data": {
            "application/vnd.jupyter.widget-view+json": {
              "model_id": "bc70c5bd9aa443be82c6b1ecf8f436e8",
              "version_minor": 0,
              "version_major": 2
            },
            "text/plain": [
              "HBox(children=(FloatProgress(value=0.0, max=1648877.0), HTML(value='')))"
            ]
          },
          "metadata": {
            "tags": []
          }
        },
        {
          "output_type": "stream",
          "text": [
            "\n",
            "Extracting Invert/MNIST/raw/t10k-images-idx3-ubyte.gz to Invert/MNIST/raw\n",
            "\n",
            "Downloading http://yann.lecun.com/exdb/mnist/t10k-labels-idx1-ubyte.gz\n",
            "Downloading http://yann.lecun.com/exdb/mnist/t10k-labels-idx1-ubyte.gz to Invert/MNIST/raw/t10k-labels-idx1-ubyte.gz\n"
          ],
          "name": "stdout"
        },
        {
          "output_type": "display_data",
          "data": {
            "application/vnd.jupyter.widget-view+json": {
              "model_id": "2da4f1f599984a02a2d5db3dd30bf251",
              "version_minor": 0,
              "version_major": 2
            },
            "text/plain": [
              "HBox(children=(FloatProgress(value=0.0, max=4542.0), HTML(value='')))"
            ]
          },
          "metadata": {
            "tags": []
          }
        },
        {
          "output_type": "stream",
          "text": [
            "\n",
            "Extracting Invert/MNIST/raw/t10k-labels-idx1-ubyte.gz to Invert/MNIST/raw\n",
            "\n",
            "Processing...\n",
            "Done!\n"
          ],
          "name": "stdout"
        },
        {
          "output_type": "stream",
          "text": [
            "/usr/local/lib/python3.7/dist-packages/torchvision/datasets/mnist.py:502: UserWarning: The given NumPy array is not writeable, and PyTorch does not support non-writeable tensors. This means you can write to the underlying (supposedly non-writeable) NumPy array using the tensor. You may want to copy the array to protect its data or make it writeable before converting it to a tensor. This type of warning will be suppressed for the rest of this program. (Triggered internally at  /pytorch/torch/csrc/utils/tensor_numpy.cpp:143.)\n",
            "  return torch.from_numpy(parsed.astype(m[2], copy=False)).view(*s)\n"
          ],
          "name": "stderr"
        },
        {
          "output_type": "stream",
          "text": [
            "label= 3 Rotate Right\n",
            "Downloading http://yann.lecun.com/exdb/mnist/train-images-idx3-ubyte.gz\n",
            "Failed to download (trying next):\n",
            "HTTP Error 503: Service Unavailable\n",
            "\n",
            "Downloading https://ossci-datasets.s3.amazonaws.com/mnist/train-images-idx3-ubyte.gz\n",
            "Downloading https://ossci-datasets.s3.amazonaws.com/mnist/train-images-idx3-ubyte.gz to RotateRight/MNIST/raw/train-images-idx3-ubyte.gz\n"
          ],
          "name": "stdout"
        },
        {
          "output_type": "display_data",
          "data": {
            "application/vnd.jupyter.widget-view+json": {
              "model_id": "3fb1cf1dc55340ee824631a8ddbe29ed",
              "version_minor": 0,
              "version_major": 2
            },
            "text/plain": [
              "HBox(children=(FloatProgress(value=0.0, max=9912422.0), HTML(value='')))"
            ]
          },
          "metadata": {
            "tags": []
          }
        },
        {
          "output_type": "stream",
          "text": [
            "\n",
            "Extracting RotateRight/MNIST/raw/train-images-idx3-ubyte.gz to RotateRight/MNIST/raw\n",
            "\n",
            "Downloading http://yann.lecun.com/exdb/mnist/train-labels-idx1-ubyte.gz\n",
            "Failed to download (trying next):\n",
            "HTTP Error 503: Service Unavailable\n",
            "\n",
            "Downloading https://ossci-datasets.s3.amazonaws.com/mnist/train-labels-idx1-ubyte.gz\n",
            "Downloading https://ossci-datasets.s3.amazonaws.com/mnist/train-labels-idx1-ubyte.gz to RotateRight/MNIST/raw/train-labels-idx1-ubyte.gz\n"
          ],
          "name": "stdout"
        },
        {
          "output_type": "display_data",
          "data": {
            "application/vnd.jupyter.widget-view+json": {
              "model_id": "f193261ac2ba479faf750b2863b7f125",
              "version_minor": 0,
              "version_major": 2
            },
            "text/plain": [
              "HBox(children=(FloatProgress(value=0.0, max=28881.0), HTML(value='')))"
            ]
          },
          "metadata": {
            "tags": []
          }
        },
        {
          "output_type": "stream",
          "text": [
            "\n",
            "Extracting RotateRight/MNIST/raw/train-labels-idx1-ubyte.gz to RotateRight/MNIST/raw\n",
            "\n",
            "Downloading http://yann.lecun.com/exdb/mnist/t10k-images-idx3-ubyte.gz\n",
            "Failed to download (trying next):\n",
            "HTTP Error 503: Service Unavailable\n",
            "\n",
            "Downloading https://ossci-datasets.s3.amazonaws.com/mnist/t10k-images-idx3-ubyte.gz\n",
            "Downloading https://ossci-datasets.s3.amazonaws.com/mnist/t10k-images-idx3-ubyte.gz to RotateRight/MNIST/raw/t10k-images-idx3-ubyte.gz\n"
          ],
          "name": "stdout"
        },
        {
          "output_type": "display_data",
          "data": {
            "application/vnd.jupyter.widget-view+json": {
              "model_id": "650ff3d782d84cbbb3b9bd9bc3a83e4a",
              "version_minor": 0,
              "version_major": 2
            },
            "text/plain": [
              "HBox(children=(FloatProgress(value=0.0, max=1648877.0), HTML(value='')))"
            ]
          },
          "metadata": {
            "tags": []
          }
        },
        {
          "output_type": "stream",
          "text": [
            "\n",
            "Extracting RotateRight/MNIST/raw/t10k-images-idx3-ubyte.gz to RotateRight/MNIST/raw\n",
            "\n",
            "Downloading http://yann.lecun.com/exdb/mnist/t10k-labels-idx1-ubyte.gz\n",
            "Failed to download (trying next):\n",
            "HTTP Error 503: Service Unavailable\n",
            "\n",
            "Downloading https://ossci-datasets.s3.amazonaws.com/mnist/t10k-labels-idx1-ubyte.gz\n",
            "Downloading https://ossci-datasets.s3.amazonaws.com/mnist/t10k-labels-idx1-ubyte.gz to RotateRight/MNIST/raw/t10k-labels-idx1-ubyte.gz\n"
          ],
          "name": "stdout"
        },
        {
          "output_type": "display_data",
          "data": {
            "application/vnd.jupyter.widget-view+json": {
              "model_id": "d32f9d9992314326b1511aa935815b3c",
              "version_minor": 0,
              "version_major": 2
            },
            "text/plain": [
              "HBox(children=(FloatProgress(value=0.0, max=4542.0), HTML(value='')))"
            ]
          },
          "metadata": {
            "tags": []
          }
        },
        {
          "output_type": "stream",
          "text": [
            "\n",
            "Extracting RotateRight/MNIST/raw/t10k-labels-idx1-ubyte.gz to RotateRight/MNIST/raw\n",
            "\n",
            "Processing...\n",
            "Done!\n",
            "label= 2 Rotate Left\n",
            "Downloading http://yann.lecun.com/exdb/mnist/train-images-idx3-ubyte.gz\n",
            "Downloading http://yann.lecun.com/exdb/mnist/train-images-idx3-ubyte.gz to RotateLeft/MNIST/raw/train-images-idx3-ubyte.gz\n",
            "Failed to download (trying next):\n",
            "HTTP Error 503: Service Unavailable\n",
            "\n",
            "Downloading https://ossci-datasets.s3.amazonaws.com/mnist/train-images-idx3-ubyte.gz\n",
            "Downloading https://ossci-datasets.s3.amazonaws.com/mnist/train-images-idx3-ubyte.gz to RotateLeft/MNIST/raw/train-images-idx3-ubyte.gz\n"
          ],
          "name": "stdout"
        },
        {
          "output_type": "display_data",
          "data": {
            "application/vnd.jupyter.widget-view+json": {
              "model_id": "f6a6f561c214468bb8d29cfccee564f4",
              "version_minor": 0,
              "version_major": 2
            },
            "text/plain": [
              "HBox(children=(FloatProgress(value=0.0, max=9912422.0), HTML(value='')))"
            ]
          },
          "metadata": {
            "tags": []
          }
        },
        {
          "output_type": "stream",
          "text": [
            "\n",
            "Extracting RotateLeft/MNIST/raw/train-images-idx3-ubyte.gz to RotateLeft/MNIST/raw\n",
            "\n",
            "Downloading http://yann.lecun.com/exdb/mnist/train-labels-idx1-ubyte.gz\n",
            "Downloading http://yann.lecun.com/exdb/mnist/train-labels-idx1-ubyte.gz to RotateLeft/MNIST/raw/train-labels-idx1-ubyte.gz\n"
          ],
          "name": "stdout"
        },
        {
          "output_type": "display_data",
          "data": {
            "application/vnd.jupyter.widget-view+json": {
              "model_id": "d6e7ea99772a449b9823170319c9cd57",
              "version_minor": 0,
              "version_major": 2
            },
            "text/plain": [
              "HBox(children=(FloatProgress(value=0.0, max=28881.0), HTML(value='')))"
            ]
          },
          "metadata": {
            "tags": []
          }
        },
        {
          "output_type": "stream",
          "text": [
            "\n",
            "Extracting RotateLeft/MNIST/raw/train-labels-idx1-ubyte.gz to RotateLeft/MNIST/raw\n",
            "\n",
            "Downloading http://yann.lecun.com/exdb/mnist/t10k-images-idx3-ubyte.gz\n",
            "Downloading http://yann.lecun.com/exdb/mnist/t10k-images-idx3-ubyte.gz to RotateLeft/MNIST/raw/t10k-images-idx3-ubyte.gz\n",
            "Failed to download (trying next):\n",
            "HTTP Error 503: Service Unavailable\n",
            "\n",
            "Downloading https://ossci-datasets.s3.amazonaws.com/mnist/t10k-images-idx3-ubyte.gz\n",
            "Downloading https://ossci-datasets.s3.amazonaws.com/mnist/t10k-images-idx3-ubyte.gz to RotateLeft/MNIST/raw/t10k-images-idx3-ubyte.gz\n"
          ],
          "name": "stdout"
        },
        {
          "output_type": "display_data",
          "data": {
            "application/vnd.jupyter.widget-view+json": {
              "model_id": "e61007e09dcc4688afd81516fa4997a4",
              "version_minor": 0,
              "version_major": 2
            },
            "text/plain": [
              "HBox(children=(FloatProgress(value=0.0, max=1648877.0), HTML(value='')))"
            ]
          },
          "metadata": {
            "tags": []
          }
        },
        {
          "output_type": "stream",
          "text": [
            "\n",
            "Extracting RotateLeft/MNIST/raw/t10k-images-idx3-ubyte.gz to RotateLeft/MNIST/raw\n",
            "\n",
            "Downloading http://yann.lecun.com/exdb/mnist/t10k-labels-idx1-ubyte.gz\n",
            "Failed to download (trying next):\n",
            "HTTP Error 503: Service Unavailable\n",
            "\n",
            "Downloading https://ossci-datasets.s3.amazonaws.com/mnist/t10k-labels-idx1-ubyte.gz\n",
            "Downloading https://ossci-datasets.s3.amazonaws.com/mnist/t10k-labels-idx1-ubyte.gz to RotateLeft/MNIST/raw/t10k-labels-idx1-ubyte.gz\n"
          ],
          "name": "stdout"
        },
        {
          "output_type": "display_data",
          "data": {
            "application/vnd.jupyter.widget-view+json": {
              "model_id": "755a64e903484a66898ea46f861d4063",
              "version_minor": 0,
              "version_major": 2
            },
            "text/plain": [
              "HBox(children=(FloatProgress(value=0.0, max=4542.0), HTML(value='')))"
            ]
          },
          "metadata": {
            "tags": []
          }
        },
        {
          "output_type": "stream",
          "text": [
            "\n",
            "Extracting RotateLeft/MNIST/raw/t10k-labels-idx1-ubyte.gz to RotateLeft/MNIST/raw\n",
            "\n",
            "Processing...\n",
            "Done!\n",
            "answer (torch.Size([63000, 28, 28]), torch.Size([63000, 32, 32]), torch.Size([63000]), torch.Size([63000]))\n"
          ],
          "name": "stdout"
        },
        {
          "output_type": "display_data",
          "data": {
            "image/png": "[encoded data removed]",
            "text/plain": [
              "<Figure size 576x576 with 16 Axes>"
            ]
          },
          "metadata": {
            "tags": [],
            "needs_background": "light"
          }
        },
        {
          "output_type": "display_data",
          "data": {
            "image/png": "[encoded data removed]",
            "text/plain": [
              "<Figure size 576x576 with 16 Axes>"
            ]
          },
          "metadata": {
            "tags": [],
            "needs_background": "light"
          }
        },
        {
          "output_type": "stream",
          "text": [
            "Mounted at /content/gdrive\n"
          ],
          "name": "stdout"
        }
      ]
    },
    {
      "cell_type": "code",
      "metadata": {
        "id": "Oc779UQGYfx3",
        "colab": {
          "base_uri": "https://localhost:8080/"
        },
        "outputId": "7e3bd6ba-55b2-462a-ffbc-1cf4194b15ff"
      },
      "source": [
        "\n",
        "''' ******************************************************\n",
        "****************************    imports    ***************\n",
        "********************************************************'''\n",
        "import os\n",
        "import torch\n",
        "from torch import nn\n",
        "from time import time\n",
        "from torch import optim\n",
        "import torchvision as tv\n",
        "from google.colab import drive\n",
        "import matplotlib.pyplot as plt\n",
        "from torch.utils.data import DataLoader\n",
        "import torchvision.datasets as datasets\n",
        "import torchvision.transforms as transforms\n",
        "from torchvision.datasets import ImageFolder\n",
        "import torchvision.transforms as transforms_Direction\n",
        "\n",
        "''' *******************************************************************\n",
        "****************************    Hyperparameters    ********************\n",
        "********************************************************************'''\n",
        "\n",
        "BATCH_SIZE=100\n",
        "batch_size = BATCH_SIZE\n",
        "\n",
        "description='Learning Independent Causal Mechanisms'\n",
        "datadir='./data'\n",
        "outdir='.'\n",
        "dataset='MNIST'    \n",
        "optimizer_experts='adam'\n",
        "optimizer_discriminator ='adam'\n",
        "optimizer_initialize ='adam'\n",
        "generated_label=0\n",
        "canonical_label=1\n",
        "\n",
        "real_data_size=28*28\n",
        "transferred_data_size= 32*32\n",
        "epoch_number = 1000\n",
        "seed =11\n",
        "log_interval=10\n",
        "learning_rate_initialize=1e-1\n",
        "learning_rate_expert = 1e-3\n",
        "learning_rate_discriminator=1e-3\n",
        "learning_rate=1e-4\n",
        "name=''\n",
        "weight_decay=0\n",
        "num_experts=2\n",
        "torch.manual_seed(seed)\n",
        "device = torch.device(\"cuda\" if torch.cuda.is_available() else \"cpu\")\n",
        "torch.cuda.manual_seed_all(seed)\n",
        "cuda= True\n",
        "weight_decay=0;\n",
        "device = torch.device(\"cuda\" if torch.cuda.is_available() else \"cpu\")\n",
        "\n",
        "class Data_generated:\n",
        "    def __init__(self, Realimage,TransImage,target,label,device):\n",
        "        super().__init__()\n",
        "        self.device= device\n",
        "        self.target=target.squeeze().to(self.device)\n",
        "        self.label=label.squeeze().to(self.device)\n",
        "        self.Realimage=Realimage.squeeze()\n",
        "        self.Realimage=Realimage.to(self.device)\n",
        "        self.TransImage=TransImage.squeeze()\n",
        "        self.TransImage=TransImage.to(self.device)\n",
        "    def to(self, device):\n",
        "        self.device= device\n",
        "        self.target=self.target.to(self.device)\n",
        "        self.label=self.label.to(self.device)\n",
        "        self.Realimage=image.to(self.device)\n",
        "        self.TransImage=TransImage.to(self.device)\n",
        "    def __len__(self):\n",
        "      return self.Realimage.size(0)\n",
        "    def __getitem__(self, idx):\n",
        "        if torch.is_tensor(idx):\n",
        "            idx = idx.tolist()\n",
        "  \n",
        "        sample = (self.Realimage[idx], self.TransImage[idx],  self.target[idx],self.label[idx])\n",
        "\n",
        "        return sample\n",
        "    def size(self):\n",
        "     \n",
        "\n",
        "        sample = (self.Realimage.size(),self.TransImage.size(),  self.target.size(),self.label.size())\n",
        "\n",
        "        return sample\n",
        "    def add_data(self,x,w,y,z):\n",
        "      x=x.squeeze().to(self.device)\n",
        "      y=y.squeeze().to(self.device)\n",
        "      z=z.squeeze().to(self.device)\n",
        "      w=w.squeeze().to(self.device)\n",
        "\n",
        "\n",
        "      self.Realimage= torch.cat((self.Realimage,x),0)\n",
        "      self.TransImage= torch.cat((self.TransImage,w),0)\n",
        "\n",
        "      self.target=torch.cat((self.target,y),0)\n",
        "      self.label=torch.cat((self.label,z),0)\n",
        "\n",
        "\n",
        "\n",
        "\n",
        "\n",
        "\n",
        "drive.mount('/content/gdrive')\n",
        "corpus = os.path.join(\"/content/gdrive/My Drive/Colab Notebooks/Data/\", 'Invert_Data.pt')\n",
        "Collection_Data= torch.load(corpus)"
      ],
      "execution_count": null,
      "outputs": [
        {
          "output_type": "stream",
          "text": [
            "Drive already mounted at /content/gdrive; to attempt to forcibly remount, call drive.mount(\"/content/gdrive\", force_remount=True).\n"
          ],
          "name": "stdout"
        }
      ]
    },
    {
      "cell_type": "code",
      "metadata": {
        "id": "45aWCa0plKy7"
      },
      "source": [
        "# -*- coding: utf-8 -*-\n",
        "\"\"\"LICMS_Final_Version_invert.ipynb\n",
        "\n",
        "Automatically generated by Colaboratory.\n",
        "\n",
        "Original file is located at\n",
        "    https://colab.research.google.com/drive/1Cn6v-8pEGmYJNVgL2EFfBlHyvi60fJ01\n",
        "\"\"\"\n",
        "\n",
        "\n",
        "''' *******************************************************************\n",
        "****************************    Expert Class    ********************\n",
        "********************************************************************'''\n",
        "class Expert(nn.Module):\n",
        "    def __init__(self, latent_dim=28*28, batchnorm=True):\n",
        "        \"\"\"A Expert for mapping a latent space to a sample space.\n",
        "        The sample space for this expert is single-channel, 28x28 images\n",
        "        with pixel intensity ranging from -1 to +1.\n",
        "        Args:\n",
        "            latent_dim (int): latent dimension (\"transfered image\")\n",
        "            batchnorm (bool): Whether or not to use batch normalization\n",
        "        \"\"\"\n",
        "        super(Expert, self).__init__()\n",
        "        self.latent_dim = latent_dim\n",
        "        self.batchnorm = batchnorm\n",
        "        self._init_modules()\n",
        "\n",
        "    def _init_modules(self):\n",
        "        \"\"\"Initialize the modules.\"\"\"\n",
        "        # Project the input\n",
        "        self.linear1 = nn.Linear(self.latent_dim, 256*7*7, bias=False)\n",
        "        self.bn1d1 = nn.BatchNorm1d(256*7*7) if self.batchnorm else None\n",
        "        self.leaky_relu = nn.LeakyReLU()\n",
        "\n",
        "        # Convolutions\n",
        "        self.conv1 = nn.Conv2d(\n",
        "                in_channels=256,\n",
        "                out_channels=128,\n",
        "                kernel_size=5,\n",
        "                stride=1,\n",
        "                padding=2,\n",
        "                bias=False)\n",
        "        self.bn2d1 = nn.BatchNorm2d(128) if self.batchnorm else None\n",
        "\n",
        "        self.conv2 = nn.ConvTranspose2d(\n",
        "                in_channels=128,\n",
        "                out_channels=64,\n",
        "                kernel_size=4,\n",
        "                stride=2,\n",
        "                padding=1,\n",
        "                bias=False)\n",
        "        self.bn2d2 = nn.BatchNorm2d(64) if self.batchnorm else None\n",
        "\n",
        "        self.conv3 = nn.ConvTranspose2d(\n",
        "                in_channels=64,\n",
        "                out_channels=1,\n",
        "                kernel_size=4,\n",
        "                stride=2,\n",
        "                padding=1,\n",
        "                bias=False)\n",
        "        self.tanh = nn.Tanh()\n",
        "\n",
        "    def forward(self, input_tensor):\n",
        "        \"\"\"Forward pass; map latent vectors to samples.\"\"\"\n",
        "        intermediate = self.linear1(input_tensor)\n",
        "        intermediate = self.bn1d1(intermediate)\n",
        "        intermediate = self.leaky_relu(intermediate)\n",
        "\n",
        "        intermediate = intermediate.view((-1, 256, 7, 7))\n",
        "\n",
        "        intermediate = self.conv1(intermediate)\n",
        "        if self.batchnorm:\n",
        "            intermediate = self.bn2d1(intermediate)\n",
        "        intermediate = self.leaky_relu(intermediate)\n",
        "\n",
        "        intermediate = self.conv2(intermediate)\n",
        "        if self.batchnorm:\n",
        "            intermediate = self.bn2d2(intermediate)\n",
        "        intermediate = self.leaky_relu(intermediate)\n",
        "\n",
        "        intermediate = self.conv3(intermediate)\n",
        "        output_tensor = self.tanh(intermediate)\n",
        "        return output_tensor\n",
        "\n",
        "\n",
        "\n",
        "\n"
      ],
      "execution_count": null,
      "outputs": []
    },
    {
      "cell_type": "code",
      "metadata": {
        "id": "fPXFZNOhdbgz"
      },
      "source": [
        "''' *******************************************************************\n",
        "************************    Discriminator Class    ********************\n",
        "********************************************************************'''\n",
        "\n",
        "\n",
        "class Discriminator(nn.Module):\n",
        "    def __init__(self):\n",
        "        \"\"\"A discriminator for discerning real from generated images.\n",
        "        Images must be single-channel and 28x28 pixels.\n",
        "        Output activation is Sigmoid.\n",
        "        \"\"\"\n",
        "        super(Discriminator, self).__init__()\n",
        "        self._init_modules()  # I know this is overly-organized. Fight me.\n",
        "\n",
        "    def _init_modules(self):\n",
        "        \"\"\"Initialize the modules.\"\"\"\n",
        "        self.conv1 = nn.Conv2d(\n",
        "                in_channels=1,\n",
        "                out_channels=64,\n",
        "                kernel_size=5,\n",
        "                stride=2,\n",
        "                padding=2,\n",
        "                bias=True)\n",
        "        self.leaky_relu = nn.LeakyReLU()\n",
        "        self.dropout_2d = nn.Dropout2d(0.3)\n",
        "\n",
        "        self.conv2 = nn.Conv2d(\n",
        "                in_channels=64,\n",
        "                out_channels=128,\n",
        "                kernel_size=5,\n",
        "                stride=2,\n",
        "                padding=2,\n",
        "                bias=True)\n",
        "\n",
        "        self.linear1 = nn.Linear(128*7*7, 1, bias=True)\n",
        "        self.sigmoid = nn.Sigmoid()\n",
        "\n",
        "    def forward(self, input_tensor):\n",
        "        \"\"\"Forward pass; map samples to confidence they are real [0, 1].\"\"\"\n",
        "        intermediate = self.conv1(input_tensor)\n",
        "        intermediate = self.leaky_relu(intermediate)\n",
        "        intermediate = self.dropout_2d(intermediate)\n",
        "\n",
        "        intermediate = self.conv2(intermediate)\n",
        "        intermediate = self.leaky_relu(intermediate)\n",
        "        intermediate = self.dropout_2d(intermediate)\n",
        "\n",
        "        intermediate = intermediate.view((-1, 128*7*7))\n",
        "        intermediate = self.linear1(intermediate)\n",
        "        \n",
        "        output_tensor = self.sigmoid(intermediate)\n",
        "\n",
        "        return output_tensor"
      ],
      "execution_count": null,
      "outputs": []
    },
    {
      "cell_type": "code",
      "metadata": {
        "id": "DCf2oUmhdVlo"
      },
      "source": [
        "\n",
        "\n",
        "#******************************************************************\n",
        "#*******************************    Learning Independent Causal Mechanisms Class    ********************\n",
        "#*******************************************************************'''\n",
        "\n",
        "class Learning_Independent_Causal_Mechanisms():\n",
        "  def __init__(self,  Real_data,Transferred_data,batch_size=100, device='cuda', lr_d=1e-3, lr_g=2e-4):\n",
        "       \n",
        "        self.Experts=  [Expert(transferred_data_size).to(device) for i in range(num_experts)]\n",
        "        self.discriminator = Discriminator().to(device)\n",
        "        self.Real_data = Real_data\n",
        "        self.Transferred_data= Transferred_data\n",
        "        self.batch_size = batch_size\n",
        "        self.device = device\n",
        "        self.criterion = nn.BCELoss()\n",
        "        self.loss= nn.MSELoss()\n",
        "        self.optim_d = optim.Adam(self.discriminator.parameters(),lr=lr_d, betas=(0.5, 0.999))\n",
        "        self.optimizerS_E=[]\n",
        "        for i in range(num_experts):\n",
        "            self.optimizer_E = torch.optim.Adam(self.Experts[i].parameters(), lr=lr_g, betas=(0.5, 0.999))\n",
        "            self.optimizerS_E.append(self.optimizer_E)\n",
        "        for i in range(num_experts):\n",
        "          self.optimizer_E = torch.optim.Adam(self.Experts[i].parameters(), lr=learning_rate, weight_decay=weight_decay)\n",
        "          self.optimizerS_E.append(self.optimizer_E)\n",
        "        self.optimizer_discriminator = torch.optim.Adam(self.discriminator.parameters(), lr=learning_rate, weight_decay=weight_decay)\n",
        "   \n",
        "#==========================================================================================================\n",
        "#================================     expert[idx]_train         ===========================================\n",
        "#==========================================================================================================='''  \n",
        "  def train_step_expert(self,real_img,transferred_img,transferrd_evaluation_label,idx):\n",
        "    self.Experts[idx].zero_grad()\n",
        "\n",
        "    generated_img= self.Experts[idx](transferred_img.to(self.device)) # generated image is produced by Experts[idx]\n",
        "    classifications = self.discriminator(generated_img.to(self.device))\n",
        "    real_img= real_img.view(real_img.size(0),1, 28,28).to('cuda')\n",
        "    lossE = self.loss(generated_img, real_img)\n",
        "    lossE.backward()\n",
        "    self.optimizerS_E[idx].step()\n",
        "#==========================================================================================================\n",
        "#================================     discriminator_train  ======================================\n",
        "#==========================================================================================================='''  \n",
        "  def discriminator_train(self,image,evaluation_label ):\n",
        "    image= image.view(batch_size, 1,28,28).to(self.device)\n",
        "    evaluation_label= evaluation_label.view(self.batch_size,1)\n",
        "    self.discriminator.zero_grad()\n",
        "    output = self.discriminator(image.to(self.device))\n",
        "    lossD = self.criterion(output, evaluation_label)\n",
        "    lossD.backward()\n",
        "    self.optimizer_discriminator.step()\n",
        "#==========================================================================================================\n",
        "#================================     discriminator_train  ======================================\n",
        "#==========================================================================================================='''  \n",
        "  def discriminator_train_secondary(self,image,evaluation_label , n_samples):\n",
        "    image= image.view(n_samples, 1,28,28).to(self.device)\n",
        "    evaluation_label= evaluation_label.view(n_samples,1)\n",
        "    self.discriminator.zero_grad()\n",
        "    output = self.discriminator(image.to(self.device))\n",
        "    lossD = self.criterion(output, evaluation_label)\n",
        "    lossD.backward()\n",
        "    self.optimizer_discriminator.step()\n",
        "\n",
        "#==========================================================================================================\n",
        "#================================     Initial_discriminator_train  ======================================\n",
        "#==========================================================================================================='''  \n",
        "  def Initial_discriminator_train(self,transferred_data):\n",
        "    real_label=torch.ones(self.batch_size,1).to(device)\n",
        "    generated_label=torch.zeros(self.batch_size,1).to(device)\n",
        "    for batch , data in enumerate(transferred_data):\n",
        "      x,w,y,z= data\n",
        "      self.discriminator_train(x,real_label)\n",
        "      transferred_img= w.view(self.batch_size,transferred_data_size).to(device)\n",
        "      #for idx, expert in enumerate(self.Experts): \n",
        "      idx=0\n",
        "      self.Experts[idx].zero_grad()\n",
        "      generated_img= self.Experts[idx](transferred_img.to(self.device)) # generated image is produced by Experts[idx]\n",
        "      self.discriminator_train(generated_img,generated_label)\n",
        "\n",
        "#==========================================================================================================\n",
        "#================================     epoch_expert_train  ==================================================\n",
        "#==========================================================================================================='''  \n",
        "  def epoch_expert_train(self, Transferred_Data):\n",
        "    All_transferred_img= None\n",
        "    All_real_img= None\n",
        "    All_label= None\n",
        "\n",
        "    All_expert_scores= None\n",
        "    E_first =True\n",
        "    g_first=True\n",
        "    Total_discriminator_Generated_loss=0;\n",
        "    discriminator_Generated_loss= None\n",
        "    for batch , data in enumerate(Transferred_Data):\n",
        "      E_first =True\n",
        "      g_first=True\n",
        "      real_img, Transferred_img,y,z= data\n",
        "      Transferred_img= Transferred_img.view(self.batch_size,transferred_data_size).to(self.device)\n",
        "      \n",
        "      \n",
        "      for idx, expert in enumerate(self.Experts): \n",
        "          self.Experts[idx].zero_grad()\n",
        "          generated_img= self.Experts[idx](Transferred_img.to(self.device)) # generated image is produced by Experts[idx]\n",
        "          score_idx=self.discriminator(generated_img.to(self.device))\n",
        "          \n",
        "          if (E_first==True):\n",
        "              All_expert_scores=score_idx\n",
        "              E_first =False\n",
        "          else:\n",
        "              All_expert_scores= torch.cat((All_expert_scores,score_idx),-1) \n",
        "      if g_first== True:\n",
        "            All_transferred_img= Transferred_img\n",
        "            All_real_img= real_img\n",
        "\n",
        "            g_first=False\n",
        "      else:\n",
        "            All_transferred_img=torch.cat((All_transferred_img,Transferred_img),0)\n",
        "            All_real_img=torch.cat((All_real_img,real_img),0)\n",
        "            \n",
        "      #------------------------------------------------------\n",
        "      #--------------------- Find Winner expert--------------\n",
        "      #-------------------------------------------------------\n",
        "      if ( batch >=0):\n",
        "        mask_winners = All_expert_scores.argmax(dim=1)\n",
        "        idx_winners= mask_winners.to(device)\n",
        "        #print (\"idx_winners:\" , idx_winners)\n",
        "        #========================================================\n",
        "        # ================= Update Winner expert ================\n",
        "        #===========================================================\n",
        "        for exp_idx, expert in enumerate(self.Experts):\n",
        "            winning_indexes = idx_winners.eq(exp_idx).nonzero().squeeze(dim=-1)\n",
        "            #print(exp_idx, \": winning_indexes\",winning_indexes, \"size=\", winning_indexes.size())\n",
        "            #print(exp_idx,  \": , size=\", winning_indexes.size())\n",
        "\n",
        "            n_samples = winning_indexes.size(0)\n",
        "            #print(\"n_samples\" , n_samples)\n",
        "            if n_samples >2:\n",
        "              winner_image = All_transferred_img[winning_indexes]\n",
        "              winner_real = All_real_img[winning_indexes]\n",
        "              #print(\"sample size:\", winner_image.size())\n",
        "              labels = torch.full((n_samples,), 0, device=self.device).unsqueeze(dim=1).float()\n",
        "              self.train_step_expert(winner_real,winner_image,labels,exp_idx)\n",
        "              winner_generated_img= self.Experts[idx](winner_image.to(self.device)) # generated image is produced by Experts[idx]\n",
        "              labels= torch.ones(n_samples,1).to(device)\n",
        "              #self.discriminator_train_secondary(winner_generated_img,labels, n_samples)"
      ],
      "execution_count": null,
      "outputs": []
    },
    {
      "cell_type": "code",
      "metadata": {
        "id": "ia5MixMcYZ9H"
      },
      "source": [
        "\n",
        "\n",
        "Transferred_data= DataLoader(Collection_Data, batch_size=batch_size, shuffle=True)\n",
        "\n",
        "\n",
        "licms = Learning_Independent_Causal_Mechanisms(Real_data= Transferred_data, Transferred_data= Transferred_data,batch_size=BATCH_SIZE, device='cuda', lr_d=1e-3, lr_g=2e-4)\n"
      ],
      "execution_count": null,
      "outputs": []
    },
    {
      "cell_type": "code",
      "metadata": {
        "id": "iJ4p_chyZmh9",
        "colab": {
          "base_uri": "https://localhost:8080/"
        },
        "outputId": "2786268a-ff7c-472f-d149-eea08a541817"
      },
      "source": [
        "for i in range(10):\n",
        "  if (i%1==0):\n",
        "    print (\" Disriminator epoch :\" , i)\n",
        "  licms.Initial_discriminator_train(Transferred_data)"
      ],
      "execution_count": null,
      "outputs": [
        {
          "output_type": "stream",
          "text": [
            " Disriminator epoch : 0\n",
            " Disriminator epoch : 1\n",
            " Disriminator epoch : 2\n",
            " Disriminator epoch : 3\n",
            " Disriminator epoch : 4\n",
            " Disriminator epoch : 5\n",
            " Disriminator epoch : 6\n",
            " Disriminator epoch : 7\n",
            " Disriminator epoch : 8\n",
            " Disriminator epoch : 9\n"
          ],
          "name": "stdout"
        }
      ]
    },
    {
      "cell_type": "code",
      "metadata": {
        "id": "2RgsN3CMZpDt",
        "colab": {
          "base_uri": "https://localhost:8080/"
        },
        "outputId": "45b6665d-6301-4127-da07-bcc8fba2ea24"
      },
      "source": [
        "for i in range(10):\n",
        "  if (i%1==0):\n",
        "    print ('Expert epoch : ',i)\n",
        "  licms.epoch_expert_train(Transferred_data)"
      ],
      "execution_count": null,
      "outputs": [
        {
          "output_type": "stream",
          "text": [
            "Expert epoch :  0\n",
            "Expert epoch :  1\n",
            "Expert epoch :  2\n",
            "Expert epoch :  3\n",
            "Expert epoch :  4\n",
            "Expert epoch :  5\n",
            "Expert epoch :  6\n",
            "Expert epoch :  7\n",
            "Expert epoch :  8\n",
            "Expert epoch :  9\n"
          ],
          "name": "stdout"
        }
      ]
    },
    {
      "cell_type": "code",
      "metadata": {
        "id": "nFVYZaZFoGU5",
        "colab": {
          "base_uri": "https://localhost:8080/",
          "height": 265
        },
        "outputId": "800b02ca-cb3a-439c-b1ca-b7ba8f5b2982"
      },
      "source": [
        "\n",
        "\n",
        "\n",
        "\n",
        "########################### Discriminator test\n",
        "import matplotlib.pyplot as plt\n",
        "\n",
        "Transferred_data= DataLoader(Collection_Data, batch_size=batch_size, shuffle=True)\n",
        "for x in Transferred_data:\n",
        "  real,trans_img,e,r= x\n",
        "real= real.view(batch_size, 1,28,28).to('cuda')\n",
        "\n",
        "for i in range(1):\n",
        "  k=licms.discriminator(real.to('cuda'))\n",
        "  plt.plot(k.to('cpu').detach().numpy(), marker='*', linestyle='-')\n",
        "  plt.show()\n",
        "\n"
      ],
      "execution_count": null,
      "outputs": [
        {
          "output_type": "display_data",
          "data": {
            "image/png": "[encoded data removed]",
            "text/plain": [
              "<Figure size 432x288 with 1 Axes>"
            ]
          },
          "metadata": {
            "tags": [],
            "needs_background": "light"
          }
        }
      ]
    },
    {
      "cell_type": "code",
      "metadata": {
        "id": "iRiLAsPeydb_",
        "colab": {
          "base_uri": "https://localhost:8080/",
          "height": 276
        },
        "outputId": "c7de7a4b-f765-41a3-d081-99ffcacf5d6c"
      },
      "source": [
        "#=================================== discriminator (expert[0]) test\n",
        "import matplotlib.pyplot as plt\n",
        "\n",
        "Transferred_data= DataLoader(Collection_Data, batch_size=batch_size, shuffle=True)\n",
        "for x in Transferred_data:\n",
        "  real,trans_img,e,t= x\n",
        "idx=0\n",
        "transferred_img= trans_img.view(batch_size,transferred_data_size).to(device)\n",
        "transferred_evaluation_label= t.view(batch_size,1)\n",
        "licms.Experts[idx].zero_grad()\n",
        "generated_img= licms.Experts[idx](transferred_img.to('cuda')) # generated image is produced by Experts[idx]\n",
        "k=licms.discriminator(generated_img)\n",
        "plt.plot(k.to('cpu').detach().numpy(), marker='*', linestyle='-')\n",
        "plt.show()\n",
        "\n"
      ],
      "execution_count": null,
      "outputs": [
        {
          "output_type": "display_data",
          "data": {
            "image/png": "[encoded data removed]",
            "text/plain": [
              "<Figure size 432x288 with 1 Axes>"
            ]
          },
          "metadata": {
            "tags": [],
            "needs_background": "light"
          }
        }
      ]
    },
    {
      "cell_type": "code",
      "metadata": {
        "id": "qSePqPTrymiL",
        "colab": {
          "base_uri": "https://localhost:8080/",
          "height": 101
        },
        "outputId": "eedd841e-b3be-4763-c0b0-d6db171b3468"
      },
      "source": [
        "import numpy as np\n",
        "\n",
        "import matplotlib.pyplot as plt\n",
        "\n",
        "def show_transferred_images(m):\n",
        "    trans_imgs= trans_img[m:m+10,].to('cpu').detach().numpy() .squeeze()\n",
        "    fig,axs = plt.subplots(1,10,figsize=(6,6),sharey=True,sharex=True)\n",
        "\n",
        "    cnt=0\n",
        "    for i in range(1):\n",
        "        for j in range(10):\n",
        "            axs[j].imshow(trans_imgs[cnt,],cmap='gray')\n",
        "            axs[j].axis('off')\n",
        "            cnt+=1\n",
        "\n",
        "    plt.show()\n",
        "\n",
        "cnt=0\n",
        "\n",
        "def show_images(m):\n",
        "    gen_imgs= generated_img[m:m+10,].to('cpu').detach().numpy() .squeeze()\n",
        "    fig,axs = plt.subplots(1,10,figsize=(6,6),sharey=True,sharex=True)\n",
        "\n",
        "    cnt=0\n",
        "    for i in range(1):\n",
        "        for j in range(10):\n",
        "        \n",
        "            axs[ j].imshow(gen_imgs[cnt,],cmap='gray')\n",
        "            axs[ j].axis('off')\n",
        "            cnt+=1\n",
        "\n",
        "    plt.show()\n",
        "\n",
        "\n",
        "show_transferred_images(1)\n",
        "show_images(1)"
      ],
      "execution_count": null,
      "outputs": [
        {
          "output_type": "display_data",
          "data": {
            "image/png": "[encoded data removed]",
            "text/plain": [
              "<Figure size 432x432 with 10 Axes>"
            ]
          },
          "metadata": {
            "tags": [],
            "needs_background": "light"
          }
        },
        {
          "output_type": "display_data",
          "data": {
            "image/png": "[encoded data removed]",
            "text/plain": [
              "<Figure size 432x432 with 10 Axes>"
            ]
          },
          "metadata": {
            "tags": [],
            "needs_background": "light"
          }
        }
      ]
    },
    {
      "cell_type": "code",
      "metadata": {
        "colab": {
          "base_uri": "https://localhost:8080/"
        },
        "id": "FDcfy3SvXv6n",
        "outputId": "c216cd59-208b-4e17-e888-304765752d78"
      },
      "source": [
        "# Test Data\n",
        "\n",
        "Invert_Data=create_invert_dataset(count= 40000)\n",
        "\n"
      ],
      "execution_count": null,
      "outputs": [
        {
          "output_type": "stream",
          "text": [
            "label= 6 Invert\n",
            "label= 3 Rotate Right\n",
            "label= 2 Rotate Left\n"
          ],
          "name": "stdout"
        }
      ]
    },
    {
      "cell_type": "code",
      "metadata": {
        "colab": {
          "base_uri": "https://localhost:8080/",
          "height": 1000
        },
        "id": "xwB4J-GrX5Ou",
        "outputId": "c66816d1-54fe-467b-c952-bbd281a015c0"
      },
      "source": [
        "#=================================== discriminator (expert[0]) test\n",
        "import matplotlib.pyplot as plt\n",
        "for idx in range(num_experts):\n",
        "  print (\"Expert %d:\",idx)\n",
        "  Transferred_data= DataLoader(Collection_Data, batch_size=batch_size, shuffle=True)\n",
        "  for x in Transferred_data:\n",
        "    real,trans_img,e,t= x\n",
        "\n",
        "  transferred_img= trans_img.view(batch_size,transferred_data_size).to(device)\n",
        "  transferred_evaluation_label= t.view(batch_size,1)\n",
        "  licms.Experts[idx].zero_grad()\n",
        "  generated_img= licms.Experts[idx](transferred_img.to('cuda')) # generated image is produced by Experts[idx]\n",
        "  k=licms.discriminator(generated_img)\n",
        "  plt.plot(k.to('cpu').detach().numpy(), marker='*', linestyle='-')\n",
        "  plt.show()\n",
        "  show_transferred_images(1)\n",
        "  show_images(1)\n",
        "\n"
      ],
      "execution_count": null,
      "outputs": [
        {
          "output_type": "stream",
          "text": [
            "Expert %d: 0\n"
          ],
          "name": "stdout"
        },
        {
          "output_type": "display_data",
          "data": {
            "image/png": "[encoded data removed]",
            "text/plain": [
              "<Figure size 432x288 with 1 Axes>"
            ]
          },
          "metadata": {
            "tags": [],
            "needs_background": "light"
          }
        },
        {
          "output_type": "display_data",
          "data": {
            "image/png": "[encoded data removed]",
            "text/plain": [
              "<Figure size 432x432 with 10 Axes>"
            ]
          },
          "metadata": {
            "tags": [],
            "needs_background": "light"
          }
        },
        {
          "output_type": "display_data",
          "data": {
            "image/png": "[encoded data removed]",
            "text/plain": [
              "<Figure size 432x432 with 10 Axes>"
            ]
          },
          "metadata": {
            "tags": [],
            "needs_background": "light"
          }
        },
        {
          "output_type": "stream",
          "text": [
            "Expert %d: 1\n"
          ],
          "name": "stdout"
        },
        {
          "output_type": "display_data",
          "data": {
            "image/png": "[encoded data removed]",
            "text/plain": [
              "<Figure size 432x288 with 1 Axes>"
            ]
          },
          "metadata": {
            "tags": [],
            "needs_background": "light"
          }
        },
        {
          "output_type": "display_data",
          "data": {
            "image/png": "[encoded data removed]",
            "text/plain": [
              "<Figure size 432x432 with 10 Axes>"
            ]
          },
          "metadata": {
            "tags": [],
            "needs_background": "light"
          }
        },
        {
          "output_type": "display_data",
          "data": {
            "image/png": "[encoded data removed]",
            "text/plain": [
              "<Figure size 432x432 with 10 Axes>"
            ]
          },
          "metadata": {
            "tags": [],
            "needs_background": "light"
          }
        },
        {
          "output_type": "stream",
          "text": [
            "Expert %d: 2\n"
          ],
          "name": "stdout"
        },
        {
          "output_type": "display_data",
          "data": {
            "image/png": "[encoded data removed]",
            "text/plain": [
              "<Figure size 432x288 with 1 Axes>"
            ]
          },
          "metadata": {
            "tags": [],
            "needs_background": "light"
          }
        },
        {
          "output_type": "display_data",
          "data": {
            "image/png": "[encoded data removed]",
            "text/plain": [
              "<Figure size 432x432 with 10 Axes>"
            ]
          },
          "metadata": {
            "tags": [],
            "needs_background": "light"
          }
        },
        {
          "output_type": "display_data",
          "data": {
            "image/png": "[encoded data removed]",
            "text/plain": [
              "<Figure size 432x432 with 10 Axes>"
            ]
          },
          "metadata": {
            "tags": [],
            "needs_background": "light"
          }
        },
        {
          "output_type": "stream",
          "text": [
            "Expert %d: 3\n"
          ],
          "name": "stdout"
        },
        {
          "output_type": "display_data",
          "data": {
            "image/png": "[encoded data removed]",
            "text/plain": [
              "<Figure size 432x288 with 1 Axes>"
            ]
          },
          "metadata": {
            "tags": [],
            "needs_background": "light"
          }
        },
        {
          "output_type": "display_data",
          "data": {
            "image/png": "[encoded data removed]",
            "text/plain": [
              "<Figure size 432x432 with 10 Axes>"
            ]
          },
          "metadata": {
            "tags": [],
            "needs_background": "light"
          }
        },
        {
          "output_type": "display_data",
          "data": {
            "image/png": "[encoded data removed]",
            "text/plain": [
              "<Figure size 432x432 with 10 Axes>"
            ]
          },
          "metadata": {
            "tags": [],
            "needs_background": "light"
          }
        },
        {
          "output_type": "stream",
          "text": [
            "Expert %d: 4\n"
          ],
          "name": "stdout"
        },
        {
          "output_type": "display_data",
          "data": {
            "image/png": "[encoded data removed]",
            "text/plain": [
              "<Figure size 432x288 with 1 Axes>"
            ]
          },
          "metadata": {
            "tags": [],
            "needs_background": "light"
          }
        },
        {
          "output_type": "display_data",
          "data": {
            "image/png": "[encoded data removed]",
            "text/plain": [
              "<Figure size 432x432 with 10 Axes>"
            ]
          },
          "metadata": {
            "tags": [],
            "needs_background": "light"
          }
        },
        {
          "output_type": "display_data",
          "data": {
            "image/png": "[encoded data removed]",
            "text/plain": [
              "<Figure size 432x432 with 10 Axes>"
            ]
          },
          "metadata": {
            "tags": [],
            "needs_background": "light"
          }
        },
        {
          "output_type": "stream",
          "text": [
            "Expert %d: 5\n"
          ],
          "name": "stdout"
        },
        {
          "output_type": "display_data",
          "data": {
            "image/png": "[encoded data removed]",
            "text/plain": [
              "<Figure size 432x288 with 1 Axes>"
            ]
          },
          "metadata": {
            "tags": [],
            "needs_background": "light"
          }
        },
        {
          "output_type": "display_data",
          "data": {
            "image/png": "[encoded data removed]",
            "text/plain": [
              "<Figure size 432x432 with 10 Axes>"
            ]
          },
          "metadata": {
            "tags": [],
            "needs_background": "light"
          }
        },
        {
          "output_type": "display_data",
          "data": {
            "image/png": "[encoded data removed]",
            "text/plain": [
              "<Figure size 432x432 with 10 Axes>"
            ]
          },
          "metadata": {
            "tags": [],
            "needs_background": "light"
          }
        },
        {
          "output_type": "stream",
          "text": [
            "Expert %d: 6\n"
          ],
          "name": "stdout"
        },
        {
          "output_type": "display_data",
          "data": {
            "image/png": "[encoded data removed]",
            "text/plain": [
              "<Figure size 432x288 with 1 Axes>"
            ]
          },
          "metadata": {
            "tags": [],
            "needs_background": "light"
          }
        },
        {
          "output_type": "display_data",
          "data": {
            "image/png": "[encoded data removed]",
            "text/plain": [
              "<Figure size 432x432 with 10 Axes>"
            ]
          },
          "metadata": {
            "tags": [],
            "needs_background": "light"
          }
        },
        {
          "output_type": "display_data",
          "data": {
            "image/png": "[encoded data removed]",
            "text/plain": [
              "<Figure size 432x432 with 10 Axes>"
            ]
          },
          "metadata": {
            "tags": [],
            "needs_background": "light"
          }
        },
        {
          "output_type": "stream",
          "text": [
            "Expert %d: 7\n"
          ],
          "name": "stdout"
        },
        {
          "output_type": "display_data",
          "data": {
            "image/png": "[encoded data removed]",
            "text/plain": [
              "<Figure size 432x288 with 1 Axes>"
            ]
          },
          "metadata": {
            "tags": [],
            "needs_background": "light"
          }
        },
        {
          "output_type": "display_data",
          "data": {
            "image/png": "[encoded data removed]",
            "text/plain": [
              "<Figure size 432x432 with 10 Axes>"
            ]
          },
          "metadata": {
            "tags": [],
            "needs_background": "light"
          }
        },
        {
          "output_type": "display_data",
          "data": {
            "image/png": "[encoded data removed]",
            "text/plain": [
              "<Figure size 432x432 with 10 Axes>"
            ]
          },
          "metadata": {
            "tags": [],
            "needs_background": "light"
          }
        },
        {
          "output_type": "stream",
          "text": [
            "Expert %d: 8\n"
          ],
          "name": "stdout"
        },
        {
          "output_type": "display_data",
          "data": {
            "image/png": "[encoded data removed]",
            "text/plain": [
              "<Figure size 432x288 with 1 Axes>"
            ]
          },
          "metadata": {
            "tags": [],
            "needs_background": "light"
          }
        },
        {
          "output_type": "display_data",
          "data": {
            "image/png": "[encoded data removed]",
            "text/plain": [
              "<Figure size 432x432 with 10 Axes>"
            ]
          },
          "metadata": {
            "tags": [],
            "needs_background": "light"
          }
        },
        {
          "output_type": "display_data",
          "data": {
            "image/png": "[encoded data removed]",
            "text/plain": [
              "<Figure size 432x432 with 10 Axes>"
            ]
          },
          "metadata": {
            "tags": [],
            "needs_background": "light"
          }
        }
      ]
    }
  ]
}